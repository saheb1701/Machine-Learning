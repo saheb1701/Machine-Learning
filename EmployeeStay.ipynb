{
 "cells": [
  {
   "cell_type": "code",
   "execution_count": 1,
   "metadata": {
    "_cell_guid": "b1076dfc-b9ad-4769-8c92-a6c4dae69d19",
    "_kg_hide-input": true,
    "_kg_hide-output": true,
    "_uuid": "8f2839f25d086af736a60e9eeb907d3b93b6e0e5",
    "execution": {
     "iopub.execute_input": "2023-02-21T17:50:19.665553Z",
     "iopub.status.busy": "2023-02-21T17:50:19.665208Z",
     "iopub.status.idle": "2023-02-21T17:50:22.136679Z",
     "shell.execute_reply": "2023-02-21T17:50:22.135754Z",
     "shell.execute_reply.started": "2023-02-21T17:50:19.665465Z"
    }
   },
   "outputs": [
    {
     "data": {
      "text/plain": [
       "<Figure size 1600x2688 with 0 Axes>"
      ]
     },
     "metadata": {},
     "output_type": "display_data"
    }
   ],
   "source": [
    "import numpy as np \n",
    "import pandas as pd \n",
    "import seaborn as sns\n",
    "import matplotlib.pyplot as plt\n",
    "\n",
    "from sklearn.metrics import accuracy_score,confusion_matrix,precision_score\n",
    "from sklearn.model_selection import train_test_split\n",
    "from sklearn.compose import ColumnTransformer\n",
    "from sklearn.preprocessing import OneHotEncoder\n",
    "from sklearn.preprocessing import OrdinalEncoder\n",
    "from sklearn.preprocessing import LabelEncoder\n",
    "\n",
    "#Matplotlib Config\n",
    "plt.style.use('fivethirtyeight')\n",
    "\n",
    "from sklearn.linear_model import LogisticRegression\n",
    "from sklearn.svm import SVC\n",
    "from sklearn.naive_bayes import MultinomialNB\n",
    "from sklearn.tree import DecisionTreeClassifier\n",
    "from sklearn.neighbors import KNeighborsClassifier\n",
    "from sklearn.ensemble import RandomForestClassifier\n",
    "from sklearn.ensemble import AdaBoostClassifier\n",
    "from sklearn.ensemble import BaggingClassifier\n",
    "from sklearn.ensemble import ExtraTreesClassifier\n",
    "from sklearn.ensemble import GradientBoostingClassifier\n",
    "from xgboost import XGBClassifier"
   ]
  },
  {
   "cell_type": "code",
   "execution_count": 2,
   "metadata": {
    "_kg_hide-input": true,
    "execution": {
     "iopub.execute_input": "2023-02-21T17:50:22.138729Z",
     "iopub.status.busy": "2023-02-21T17:50:22.138467Z",
     "iopub.status.idle": "2023-02-21T17:50:22.163679Z",
     "shell.execute_reply": "2023-02-21T17:50:22.162842Z",
     "shell.execute_reply.started": "2023-02-21T17:50:22.138698Z"
    }
   },
   "outputs": [],
   "source": [
    "df = pd.read_csv('Employee.csv')"
   ]
  },
  {
   "cell_type": "code",
   "execution_count": 3,
   "metadata": {
    "execution": {
     "iopub.execute_input": "2023-02-21T17:50:22.165831Z",
     "iopub.status.busy": "2023-02-21T17:50:22.165263Z",
     "iopub.status.idle": "2023-02-21T17:50:22.17228Z",
     "shell.execute_reply": "2023-02-21T17:50:22.171019Z",
     "shell.execute_reply.started": "2023-02-21T17:50:22.165792Z"
    }
   },
   "outputs": [
    {
     "data": {
      "text/plain": [
       "(4653, 9)"
      ]
     },
     "execution_count": 3,
     "metadata": {},
     "output_type": "execute_result"
    }
   ],
   "source": [
    "df.shape"
   ]
  },
  {
   "cell_type": "code",
   "execution_count": 4,
   "metadata": {
    "execution": {
     "iopub.execute_input": "2023-02-21T17:50:22.175566Z",
     "iopub.status.busy": "2023-02-21T17:50:22.175305Z",
     "iopub.status.idle": "2023-02-21T17:50:22.205027Z",
     "shell.execute_reply": "2023-02-21T17:50:22.204118Z",
     "shell.execute_reply.started": "2023-02-21T17:50:22.175536Z"
    }
   },
   "outputs": [
    {
     "name": "stdout",
     "output_type": "stream",
     "text": [
      "<class 'pandas.core.frame.DataFrame'>\n",
      "RangeIndex: 4653 entries, 0 to 4652\n",
      "Data columns (total 9 columns):\n",
      " #   Column                     Non-Null Count  Dtype \n",
      "---  ------                     --------------  ----- \n",
      " 0   Education                  4653 non-null   object\n",
      " 1   JoiningYear                4653 non-null   int64 \n",
      " 2   City                       4653 non-null   object\n",
      " 3   PaymentTier                4653 non-null   int64 \n",
      " 4   Age                        4653 non-null   int64 \n",
      " 5   Gender                     4653 non-null   object\n",
      " 6   EverBenched                4653 non-null   object\n",
      " 7   ExperienceInCurrentDomain  4653 non-null   int64 \n",
      " 8   LeaveOrNot                 4653 non-null   int64 \n",
      "dtypes: int64(5), object(4)\n",
      "memory usage: 327.3+ KB\n"
     ]
    }
   ],
   "source": [
    "df.info()"
   ]
  },
  {
   "cell_type": "markdown",
   "metadata": {},
   "source": [
    "**EDA**"
   ]
  },
  {
   "cell_type": "code",
   "execution_count": 5,
   "metadata": {
    "execution": {
     "iopub.execute_input": "2023-02-21T17:50:22.206731Z",
     "iopub.status.busy": "2023-02-21T17:50:22.206464Z",
     "iopub.status.idle": "2023-02-21T17:50:22.21556Z",
     "shell.execute_reply": "2023-02-21T17:50:22.214705Z",
     "shell.execute_reply.started": "2023-02-21T17:50:22.206701Z"
    }
   },
   "outputs": [
    {
     "data": {
      "text/plain": [
       "Education                    0\n",
       "JoiningYear                  0\n",
       "City                         0\n",
       "PaymentTier                  0\n",
       "Age                          0\n",
       "Gender                       0\n",
       "EverBenched                  0\n",
       "ExperienceInCurrentDomain    0\n",
       "LeaveOrNot                   0\n",
       "dtype: int64"
      ]
     },
     "execution_count": 5,
     "metadata": {},
     "output_type": "execute_result"
    }
   ],
   "source": [
    "df.isna().sum()"
   ]
  },
  {
   "cell_type": "markdown",
   "metadata": {},
   "source": [
    "**No missing values**"
   ]
  },
  {
   "cell_type": "code",
   "execution_count": 6,
   "metadata": {
    "execution": {
     "iopub.execute_input": "2023-02-21T17:50:22.216741Z",
     "iopub.status.busy": "2023-02-21T17:50:22.216514Z",
     "iopub.status.idle": "2023-02-21T17:50:22.235611Z",
     "shell.execute_reply": "2023-02-21T17:50:22.234765Z",
     "shell.execute_reply.started": "2023-02-21T17:50:22.21671Z"
    }
   },
   "outputs": [
    {
     "name": "stdout",
     "output_type": "stream",
     "text": [
      "No. of duplicate records : 1889\n",
      "Shape after dropping duplicate records : (2764, 9)\n"
     ]
    }
   ],
   "source": [
    "duplicates = df.duplicated().sum()\n",
    "df = df.drop_duplicates()\n",
    "\n",
    "print('No. of duplicate records :',duplicates)\n",
    "print('Shape after dropping duplicate records :',df.shape)"
   ]
  },
  {
   "cell_type": "code",
   "execution_count": 7,
   "metadata": {
    "execution": {
     "iopub.execute_input": "2023-02-21T17:50:22.236726Z",
     "iopub.status.busy": "2023-02-21T17:50:22.236504Z",
     "iopub.status.idle": "2023-02-21T17:50:22.269714Z",
     "shell.execute_reply": "2023-02-21T17:50:22.268699Z",
     "shell.execute_reply.started": "2023-02-21T17:50:22.236697Z"
    }
   },
   "outputs": [
    {
     "data": {
      "text/html": [
       "<div>\n",
       "<style scoped>\n",
       "    .dataframe tbody tr th:only-of-type {\n",
       "        vertical-align: middle;\n",
       "    }\n",
       "\n",
       "    .dataframe tbody tr th {\n",
       "        vertical-align: top;\n",
       "    }\n",
       "\n",
       "    .dataframe thead th {\n",
       "        text-align: right;\n",
       "    }\n",
       "</style>\n",
       "<table border=\"1\" class=\"dataframe\">\n",
       "  <thead>\n",
       "    <tr style=\"text-align: right;\">\n",
       "      <th></th>\n",
       "      <th>JoiningYear</th>\n",
       "      <th>PaymentTier</th>\n",
       "      <th>Age</th>\n",
       "      <th>ExperienceInCurrentDomain</th>\n",
       "      <th>LeaveOrNot</th>\n",
       "    </tr>\n",
       "  </thead>\n",
       "  <tbody>\n",
       "    <tr>\n",
       "      <th>count</th>\n",
       "      <td>2764.000000</td>\n",
       "      <td>2764.000000</td>\n",
       "      <td>2764.000000</td>\n",
       "      <td>2764.000000</td>\n",
       "      <td>2764.000000</td>\n",
       "    </tr>\n",
       "    <tr>\n",
       "      <th>mean</th>\n",
       "      <td>2015.090449</td>\n",
       "      <td>2.636035</td>\n",
       "      <td>30.952967</td>\n",
       "      <td>2.644356</td>\n",
       "      <td>0.393632</td>\n",
       "    </tr>\n",
       "    <tr>\n",
       "      <th>std</th>\n",
       "      <td>1.885943</td>\n",
       "      <td>0.624001</td>\n",
       "      <td>5.108872</td>\n",
       "      <td>1.610610</td>\n",
       "      <td>0.488643</td>\n",
       "    </tr>\n",
       "    <tr>\n",
       "      <th>min</th>\n",
       "      <td>2012.000000</td>\n",
       "      <td>1.000000</td>\n",
       "      <td>22.000000</td>\n",
       "      <td>0.000000</td>\n",
       "      <td>0.000000</td>\n",
       "    </tr>\n",
       "    <tr>\n",
       "      <th>25%</th>\n",
       "      <td>2013.000000</td>\n",
       "      <td>2.000000</td>\n",
       "      <td>27.000000</td>\n",
       "      <td>1.000000</td>\n",
       "      <td>0.000000</td>\n",
       "    </tr>\n",
       "    <tr>\n",
       "      <th>50%</th>\n",
       "      <td>2015.000000</td>\n",
       "      <td>3.000000</td>\n",
       "      <td>30.000000</td>\n",
       "      <td>2.000000</td>\n",
       "      <td>0.000000</td>\n",
       "    </tr>\n",
       "    <tr>\n",
       "      <th>75%</th>\n",
       "      <td>2017.000000</td>\n",
       "      <td>3.000000</td>\n",
       "      <td>35.000000</td>\n",
       "      <td>4.000000</td>\n",
       "      <td>1.000000</td>\n",
       "    </tr>\n",
       "    <tr>\n",
       "      <th>max</th>\n",
       "      <td>2018.000000</td>\n",
       "      <td>3.000000</td>\n",
       "      <td>41.000000</td>\n",
       "      <td>7.000000</td>\n",
       "      <td>1.000000</td>\n",
       "    </tr>\n",
       "  </tbody>\n",
       "</table>\n",
       "</div>"
      ],
      "text/plain": [
       "       JoiningYear  PaymentTier          Age  ExperienceInCurrentDomain  \\\n",
       "count  2764.000000  2764.000000  2764.000000                2764.000000   \n",
       "mean   2015.090449     2.636035    30.952967                   2.644356   \n",
       "std       1.885943     0.624001     5.108872                   1.610610   \n",
       "min    2012.000000     1.000000    22.000000                   0.000000   \n",
       "25%    2013.000000     2.000000    27.000000                   1.000000   \n",
       "50%    2015.000000     3.000000    30.000000                   2.000000   \n",
       "75%    2017.000000     3.000000    35.000000                   4.000000   \n",
       "max    2018.000000     3.000000    41.000000                   7.000000   \n",
       "\n",
       "        LeaveOrNot  \n",
       "count  2764.000000  \n",
       "mean      0.393632  \n",
       "std       0.488643  \n",
       "min       0.000000  \n",
       "25%       0.000000  \n",
       "50%       0.000000  \n",
       "75%       1.000000  \n",
       "max       1.000000  "
      ]
     },
     "execution_count": 7,
     "metadata": {},
     "output_type": "execute_result"
    }
   ],
   "source": [
    "df.describe()"
   ]
  },
  {
   "cell_type": "code",
   "execution_count": 8,
   "metadata": {
    "execution": {
     "iopub.execute_input": "2023-02-21T17:50:22.271733Z",
     "iopub.status.busy": "2023-02-21T17:50:22.271357Z",
     "iopub.status.idle": "2023-02-21T17:50:22.759707Z",
     "shell.execute_reply": "2023-02-21T17:50:22.758716Z",
     "shell.execute_reply.started": "2023-02-21T17:50:22.271688Z"
    }
   },
   "outputs": [
    {
     "name": "stderr",
     "output_type": "stream",
     "text": [
      "C:\\ProgramData\\Anaconda3\\envs\\epam\\lib\\site-packages\\ipykernel_launcher.py:3: DeprecationWarning: `np.bool` is a deprecated alias for the builtin `bool`. To silence this warning, use `bool` by itself. Doing this will not modify any behavior and is safe. If you specifically wanted the numpy scalar type, use `np.bool_` here.\n",
      "Deprecated in NumPy 1.20; for more details and guidance: https://numpy.org/devdocs/release/1.20.0-notes.html#deprecations\n",
      "  This is separate from the ipykernel package so we can avoid doing imports until\n"
     ]
    },
    {
     "data": {
      "text/plain": [
       "<AxesSubplot:>"
      ]
     },
     "execution_count": 8,
     "metadata": {},
     "output_type": "execute_result"
    },
    {
     "data": {
      "image/png": "[encoded data removed]",
      "text/plain": [
       "<Figure size 720x576 with 2 Axes>"
      ]
     },
     "metadata": {
      "needs_background": "light"
     },
     "output_type": "display_data"
    }
   ],
   "source": [
    "f, ax = plt.subplots(figsize=(10, 8))\n",
    "corr = df.corr()\n",
    "sns.heatmap(corr, mask=np.zeros_like(corr, dtype=np.bool),\n",
    "            cmap=sns.diverging_palette(220, 10, as_cmap=True),\n",
    "            square=True, ax=ax ,annot=True)"
   ]
  },
  {
   "cell_type": "code",
   "execution_count": 9,
   "metadata": {
    "execution": {
     "iopub.execute_input": "2023-02-21T17:50:22.761099Z",
     "iopub.status.busy": "2023-02-21T17:50:22.760856Z",
     "iopub.status.idle": "2023-02-21T17:50:23.071473Z",
     "shell.execute_reply": "2023-02-21T17:50:23.070559Z",
     "shell.execute_reply.started": "2023-02-21T17:50:22.761068Z"
    }
   },
   "outputs": [
    {
     "data": {
      "text/plain": [
       "<AxesSubplot:xlabel='JoiningYear', ylabel='count'>"
      ]
     },
     "execution_count": 9,
     "metadata": {},
     "output_type": "execute_result"
    },
    {
     "data": {
      "image/png": "[encoded data removed]",
      "text/plain": [
       "<Figure size 432x288 with 1 Axes>"
      ]
     },
     "metadata": {
      "needs_background": "light"
     },
     "output_type": "display_data"
    }
   ],
   "source": [
    "df['JoiningYear'] = df['JoiningYear'].astype('object')\n",
    "sns.countplot(data = df ,x='JoiningYear',hue='LeaveOrNot')"
   ]
  },
  {
   "cell_type": "code",
   "execution_count": 10,
   "metadata": {
    "execution": {
     "iopub.execute_input": "2023-02-21T17:50:23.074336Z",
     "iopub.status.busy": "2023-02-21T17:50:23.07407Z",
     "iopub.status.idle": "2023-02-21T17:50:23.345294Z",
     "shell.execute_reply": "2023-02-21T17:50:23.344377Z",
     "shell.execute_reply.started": "2023-02-21T17:50:23.074301Z"
    }
   },
   "outputs": [
    {
     "data": {
      "text/plain": [
       "<AxesSubplot:xlabel='EverBenched', ylabel='count'>"
      ]
     },
     "execution_count": 10,
     "metadata": {},
     "output_type": "execute_result"
    },
    {
     "data": {
      "image/png": "[encoded data removed]",
      "text/plain": [
       "<Figure size 432x288 with 1 Axes>"
      ]
     },
     "metadata": {
      "needs_background": "light"
     },
     "output_type": "display_data"
    }
   ],
   "source": [
    "sns.countplot(data = df ,x='EverBenched',hue='LeaveOrNot')"
   ]
  },
  {
   "cell_type": "code",
   "execution_count": 11,
   "metadata": {
    "execution": {
     "iopub.execute_input": "2023-02-21T17:50:23.346892Z",
     "iopub.status.busy": "2023-02-21T17:50:23.346594Z",
     "iopub.status.idle": "2023-02-21T17:50:23.656277Z",
     "shell.execute_reply": "2023-02-21T17:50:23.654933Z",
     "shell.execute_reply.started": "2023-02-21T17:50:23.346857Z"
    }
   },
   "outputs": [
    {
     "data": {
      "text/plain": [
       "<AxesSubplot:xlabel='ExperienceInCurrentDomain', ylabel='count'>"
      ]
     },
     "execution_count": 11,
     "metadata": {},
     "output_type": "execute_result"
    },
    {
     "data": {
      "image/png": "[encoded data removed]",
      "text/plain": [
       "<Figure size 432x288 with 1 Axes>"
      ]
     },
     "metadata": {
      "needs_background": "light"
     },
     "output_type": "display_data"
    }
   ],
   "source": [
    "sns.countplot(data = df ,x='ExperienceInCurrentDomain',hue='LeaveOrNot')"
   ]
  },
  {
   "cell_type": "code",
   "execution_count": 12,
   "metadata": {
    "execution": {
     "iopub.execute_input": "2023-02-21T17:50:23.658094Z",
     "iopub.status.busy": "2023-02-21T17:50:23.657719Z",
     "iopub.status.idle": "2023-02-21T17:50:23.917812Z",
     "shell.execute_reply": "2023-02-21T17:50:23.916938Z",
     "shell.execute_reply.started": "2023-02-21T17:50:23.658039Z"
    }
   },
   "outputs": [
    {
     "data": {
      "text/plain": [
       "<AxesSubplot:xlabel='Gender', ylabel='count'>"
      ]
     },
     "execution_count": 12,
     "metadata": {},
     "output_type": "execute_result"
    },
    {
     "data": {
      "image/png": "[encoded data removed]",
      "text/plain": [
       "<Figure size 432x288 with 1 Axes>"
      ]
     },
     "metadata": {
      "needs_background": "light"
     },
     "output_type": "display_data"
    }
   ],
   "source": [
    "sns.countplot(data = df ,x='Gender',hue='LeaveOrNot')"
   ]
  },
  {
   "cell_type": "code",
   "execution_count": 13,
   "metadata": {
    "execution": {
     "iopub.execute_input": "2023-02-21T17:50:23.919783Z",
     "iopub.status.busy": "2023-02-21T17:50:23.919179Z",
     "iopub.status.idle": "2023-02-21T17:50:24.181569Z",
     "shell.execute_reply": "2023-02-21T17:50:24.180744Z",
     "shell.execute_reply.started": "2023-02-21T17:50:23.919741Z"
    }
   },
   "outputs": [
    {
     "data": {
      "text/plain": [
       "<AxesSubplot:xlabel='PaymentTier', ylabel='count'>"
      ]
     },
     "execution_count": 13,
     "metadata": {},
     "output_type": "execute_result"
    },
    {
     "data": {
      "image/png": "[encoded data removed]",
      "text/plain": [
       "<Figure size 432x288 with 1 Axes>"
      ]
     },
     "metadata": {
      "needs_background": "light"
     },
     "output_type": "display_data"
    }
   ],
   "source": [
    "df['PaymentTier'] = df['PaymentTier'].astype('category')\n",
    "sns.countplot(data = df ,x='PaymentTier',hue='LeaveOrNot')"
   ]
  },
  {
   "cell_type": "code",
   "execution_count": 14,
   "metadata": {
    "execution": {
     "iopub.execute_input": "2023-02-21T17:50:24.18299Z",
     "iopub.status.busy": "2023-02-21T17:50:24.182739Z",
     "iopub.status.idle": "2023-02-21T17:50:24.454249Z",
     "shell.execute_reply": "2023-02-21T17:50:24.453143Z",
     "shell.execute_reply.started": "2023-02-21T17:50:24.18296Z"
    }
   },
   "outputs": [
    {
     "data": {
      "text/plain": [
       "<AxesSubplot:xlabel='City', ylabel='count'>"
      ]
     },
     "execution_count": 14,
     "metadata": {},
     "output_type": "execute_result"
    },
    {
     "data": {
      "image/png": "[encoded data removed]",
      "text/plain": [
       "<Figure size 432x288 with 1 Axes>"
      ]
     },
     "metadata": {
      "needs_background": "light"
     },
     "output_type": "display_data"
    }
   ],
   "source": [
    "sns.countplot(data = df ,x='City',hue='LeaveOrNot')"
   ]
  },
  {
   "cell_type": "code",
   "execution_count": 15,
   "metadata": {
    "execution": {
     "iopub.execute_input": "2023-02-21T17:50:24.456015Z",
     "iopub.status.busy": "2023-02-21T17:50:24.455712Z",
     "iopub.status.idle": "2023-02-21T17:50:24.720448Z",
     "shell.execute_reply": "2023-02-21T17:50:24.719555Z",
     "shell.execute_reply.started": "2023-02-21T17:50:24.455977Z"
    }
   },
   "outputs": [
    {
     "data": {
      "text/plain": [
       "<AxesSubplot:xlabel='Education', ylabel='count'>"
      ]
     },
     "execution_count": 15,
     "metadata": {},
     "output_type": "execute_result"
    },
    {
     "data": {
      "image/png": "[encoded data removed]",
      "text/plain": [
       "<Figure size 432x288 with 1 Axes>"
      ]
     },
     "metadata": {
      "needs_background": "light"
     },
     "output_type": "display_data"
    }
   ],
   "source": [
    "sns.countplot(data = df ,x='Education',hue='LeaveOrNot')"
   ]
  },
  {
   "cell_type": "code",
   "execution_count": 16,
   "metadata": {
    "execution": {
     "iopub.execute_input": "2023-02-21T17:50:24.722282Z",
     "iopub.status.busy": "2023-02-21T17:50:24.722027Z",
     "iopub.status.idle": "2023-02-21T17:50:25.207421Z",
     "shell.execute_reply": "2023-02-21T17:50:25.206473Z",
     "shell.execute_reply.started": "2023-02-21T17:50:24.722248Z"
    }
   },
   "outputs": [
    {
     "data": {
      "text/plain": [
       "<AxesSubplot:xlabel='AgeGroup', ylabel='count'>"
      ]
     },
     "execution_count": 16,
     "metadata": {},
     "output_type": "execute_result"
    },
    {
     "data": {
      "image/png": "[encoded data removed]",
      "text/plain": [
       "<Figure size 432x288 with 1 Axes>"
      ]
     },
     "metadata": {
      "needs_background": "light"
     },
     "output_type": "display_data"
    }
   ],
   "source": [
    "groups = ['Young', 'MiddleAged', 'Adulthood']\n",
    "df['AgeGroup'] = pd.qcut(df['Age'], q=3, labels=groups)\n",
    "sns.countplot(data = df ,x='AgeGroup',hue='LeaveOrNot')"
   ]
  },
  {
   "cell_type": "markdown",
   "metadata": {},
   "source": [
    "**Feature Engineering**"
   ]
  },
  {
   "cell_type": "code",
   "execution_count": 17,
   "metadata": {
    "execution": {
     "iopub.execute_input": "2023-02-21T17:50:25.209457Z",
     "iopub.status.busy": "2023-02-21T17:50:25.20891Z",
     "iopub.status.idle": "2023-02-21T17:50:25.224249Z",
     "shell.execute_reply": "2023-02-21T17:50:25.22317Z",
     "shell.execute_reply.started": "2023-02-21T17:50:25.209409Z"
    }
   },
   "outputs": [],
   "source": [
    "X = df.drop('LeaveOrNot',axis=1)\n",
    "y= df.LeaveOrNot.values\n",
    "\n",
    "\n",
    "X_train,X_test,y_train,y_test = train_test_split(X,y,test_size=0.2,random_state=2)"
   ]
  },
  {
   "cell_type": "code",
   "execution_count": 18,
   "metadata": {
    "execution": {
     "iopub.execute_input": "2023-02-21T17:50:25.226336Z",
     "iopub.status.busy": "2023-02-21T17:50:25.225943Z",
     "iopub.status.idle": "2023-02-21T17:50:25.27621Z",
     "shell.execute_reply": "2023-02-21T17:50:25.275115Z",
     "shell.execute_reply.started": "2023-02-21T17:50:25.226286Z"
    }
   },
   "outputs": [],
   "source": [
    "#new feature engineering code which got  me lgbm's acc : 83% and precision 97%\n",
    "\n",
    "multi_categories = ['AgeGroup','EverBenched','City','JoiningYear']\n",
    "ordinal_cat = [['PHD','Masters','Bachelors'],[1,2,3]]\n",
    "binary_categories=['Gender','EverBenched']\n",
    "transformer = ColumnTransformer(transformers=[('ohe1', OneHotEncoder(sparse='False'), multi_categories),\n",
    "                                             ('oe',OrdinalEncoder(categories=ordinal_cat),['Education','PaymentTier']),\n",
    "                                             ('ohe2', OneHotEncoder(drop='first',sparse='False'), binary_categories)],remainder='passthrough')\n",
    "\n",
    "X_train = transformer.fit_transform(X_train)\n",
    "X_train.shape\n",
    "X_test = transformer.transform(X_test)"
   ]
  },
  {
   "cell_type": "markdown",
   "metadata": {},
   "source": [
    "**Developing Models**"
   ]
  },
  {
   "cell_type": "code",
   "execution_count": 19,
   "metadata": {
    "execution": {
     "iopub.execute_input": "2023-02-21T17:50:25.279201Z",
     "iopub.status.busy": "2023-02-21T17:50:25.278209Z",
     "iopub.status.idle": "2023-02-21T17:50:26.236572Z",
     "shell.execute_reply": "2023-02-21T17:50:26.23585Z",
     "shell.execute_reply.started": "2023-02-21T17:50:25.279152Z"
    }
   },
   "outputs": [
    {
     "data": {
      "text/html": [
       "<div>\n",
       "<style scoped>\n",
       "    .dataframe tbody tr th:only-of-type {\n",
       "        vertical-align: middle;\n",
       "    }\n",
       "\n",
       "    .dataframe tbody tr th {\n",
       "        vertical-align: top;\n",
       "    }\n",
       "\n",
       "    .dataframe thead th {\n",
       "        text-align: right;\n",
       "    }\n",
       "</style>\n",
       "<table border=\"1\" class=\"dataframe\">\n",
       "  <thead>\n",
       "    <tr style=\"text-align: right;\">\n",
       "      <th></th>\n",
       "      <th>Algorithm</th>\n",
       "      <th>Accuracy</th>\n",
       "      <th>Precision</th>\n",
       "    </tr>\n",
       "  </thead>\n",
       "  <tbody>\n",
       "    <tr>\n",
       "      <th>10</th>\n",
       "      <td>lgbm</td>\n",
       "      <td>0.830018</td>\n",
       "      <td>0.970370</td>\n",
       "    </tr>\n",
       "    <tr>\n",
       "      <th>2</th>\n",
       "      <td>DT</td>\n",
       "      <td>0.835443</td>\n",
       "      <td>0.933333</td>\n",
       "    </tr>\n",
       "    <tr>\n",
       "      <th>5</th>\n",
       "      <td>AdaBoost</td>\n",
       "      <td>0.757685</td>\n",
       "      <td>0.899083</td>\n",
       "    </tr>\n",
       "    <tr>\n",
       "      <th>9</th>\n",
       "      <td>xgb</td>\n",
       "      <td>0.830018</td>\n",
       "      <td>0.889571</td>\n",
       "    </tr>\n",
       "    <tr>\n",
       "      <th>8</th>\n",
       "      <td>GBDT</td>\n",
       "      <td>0.759494</td>\n",
       "      <td>0.879310</td>\n",
       "    </tr>\n",
       "    <tr>\n",
       "      <th>4</th>\n",
       "      <td>RF</td>\n",
       "      <td>0.781193</td>\n",
       "      <td>0.867647</td>\n",
       "    </tr>\n",
       "    <tr>\n",
       "      <th>3</th>\n",
       "      <td>LR</td>\n",
       "      <td>0.761302</td>\n",
       "      <td>0.790850</td>\n",
       "    </tr>\n",
       "    <tr>\n",
       "      <th>1</th>\n",
       "      <td>NB</td>\n",
       "      <td>0.723327</td>\n",
       "      <td>0.750000</td>\n",
       "    </tr>\n",
       "    <tr>\n",
       "      <th>6</th>\n",
       "      <td>BgC</td>\n",
       "      <td>0.741410</td>\n",
       "      <td>0.689320</td>\n",
       "    </tr>\n",
       "    <tr>\n",
       "      <th>0</th>\n",
       "      <td>KN</td>\n",
       "      <td>0.694394</td>\n",
       "      <td>0.651163</td>\n",
       "    </tr>\n",
       "    <tr>\n",
       "      <th>7</th>\n",
       "      <td>ETC</td>\n",
       "      <td>0.708861</td>\n",
       "      <td>0.640187</td>\n",
       "    </tr>\n",
       "  </tbody>\n",
       "</table>\n",
       "</div>"
      ],
      "text/plain": [
       "   Algorithm  Accuracy  Precision\n",
       "10      lgbm  0.830018   0.970370\n",
       "2         DT  0.835443   0.933333\n",
       "5   AdaBoost  0.757685   0.899083\n",
       "9        xgb  0.830018   0.889571\n",
       "8       GBDT  0.759494   0.879310\n",
       "4         RF  0.781193   0.867647\n",
       "3         LR  0.761302   0.790850\n",
       "1         NB  0.723327   0.750000\n",
       "6        BgC  0.741410   0.689320\n",
       "0         KN  0.694394   0.651163\n",
       "7        ETC  0.708861   0.640187"
      ]
     },
     "execution_count": 19,
     "metadata": {},
     "output_type": "execute_result"
    }
   ],
   "source": [
    "knc = KNeighborsClassifier()\n",
    "mnb = MultinomialNB()\n",
    "dtc = DecisionTreeClassifier(max_depth=7,random_state=2)\n",
    "lrc = LogisticRegression(solver='liblinear', penalty='l1')\n",
    "rfc = RandomForestClassifier(n_estimators=17, random_state=2,max_depth=5)\n",
    "abc = AdaBoostClassifier(n_estimators=17, random_state=2,learning_rate=0.2)\n",
    "bc = BaggingClassifier(n_estimators=17, random_state=2)\n",
    "etc = ExtraTreesClassifier(n_estimators=50, random_state=2)\n",
    "gbdt = GradientBoostingClassifier(n_estimators=18,random_state=2)\n",
    "xgb = XGBClassifier(n_estimators=17,random_state=2,use_label_encoder=False,eval_metric='mlogloss')\n",
    "lgbm= LGBMClassifier(verbose=-1,\n",
    "                          learning_rate=0.1,\n",
    "                          max_depth=6,\n",
    "                          num_leaves=10, \n",
    "                          n_estimators=17,\n",
    "                          max_bin=500,random_state=2)\n",
    "\n",
    "\n",
    "clfs = {\n",
    "    'KN' : knc, \n",
    "    'NB': mnb, \n",
    "    'DT': dtc, \n",
    "    'LR': lrc, \n",
    "    'RF': rfc, \n",
    "    'AdaBoost': abc, \n",
    "    'BgC': bc, \n",
    "    'ETC': etc,\n",
    "    'GBDT':gbdt,\n",
    "    'xgb':xgb,\n",
    "    'lgbm':lgbm\n",
    "}\n",
    "\n",
    "\n",
    "## Lets create a class for fitting , pred , accuracy , precision\n",
    "def train_classifier(clf,X_train,y_train,X_test,y_test):\n",
    "    clf.fit(X_train,y_train)\n",
    "    y_pred = clf.predict(X_test)\n",
    "    accuracy = accuracy_score(y_test,y_pred)\n",
    "    precision = precision_score(y_test,y_pred,zero_division=0)\n",
    "    \n",
    "    return accuracy,precision\n",
    "\n",
    "accuracy_scores = []\n",
    "precision_scores = []\n",
    "\n",
    "## Obtaining the scores of accuracy and precision\n",
    "for name,clf in clfs.items():\n",
    "    \n",
    "    current_accuracy,current_precision = train_classifier(clf, X_train,y_train,X_test,y_test)  \n",
    "    accuracy_scores.append(current_accuracy)\n",
    "    precision_scores.append(current_precision)\n",
    "    \n",
    "\n",
    "    \n",
    "    \n",
    "## Creating a dataframe to measure the accuracy and precision of all the models\n",
    "## Sorted with the best one on the top (Desc order)\n",
    "performance_df = pd.DataFrame({'Algorithm':clfs.keys(),'Accuracy':accuracy_scores,'Precision':precision_scores}).sort_values('Precision',ascending=False)\n",
    "performance_df"
   ]
  },
  {
   "cell_type": "code",
   "execution_count": null,
   "metadata": {},
   "outputs": [],
   "source": []
  }
 ],
 "metadata": {
  "kernelspec": {
   "display_name": "Python 3",
   "language": "python",
   "name": "python3"
  },
  "language_info": {
   "codemirror_mode": {
    "name": "ipython",
    "version": 3
   },
   "file_extension": ".py",
   "mimetype": "text/x-python",
   "name": "python",
   "nbconvert_exporter": "python",
   "pygments_lexer": "ipython3",
   "version": "3.7.10"
  }
 },
 "nbformat": 4,
 "nbformat_minor": 4
}
