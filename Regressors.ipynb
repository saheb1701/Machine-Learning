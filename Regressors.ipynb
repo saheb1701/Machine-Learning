{
 "cells": [
  {
   "cell_type": "code",
   "execution_count": 1,
   "id": "cd117327",
   "metadata": {},
   "outputs": [],
   "source": [
    "import numpy as np\n",
    "import pandas as pd\n",
    "import matplotlib.pyplot as plt\n",
    "import seaborn as sns\n",
    "%matplotlib inline"
   ]
  },
  {
   "cell_type": "code",
   "execution_count": 2,
   "id": "746a3fea",
   "metadata": {},
   "outputs": [],
   "source": [
    "df = pd.read_csv('Companies.csv')"
   ]
  },
  {
   "cell_type": "code",
   "execution_count": 10,
   "id": "b588feff",
   "metadata": {},
   "outputs": [
    {
     "data": {
      "text/html": [
       "<div>\n",
       "<style scoped>\n",
       "    .dataframe tbody tr th:only-of-type {\n",
       "        vertical-align: middle;\n",
       "    }\n",
       "\n",
       "    .dataframe tbody tr th {\n",
       "        vertical-align: top;\n",
       "    }\n",
       "\n",
       "    .dataframe thead th {\n",
       "        text-align: right;\n",
       "    }\n",
       "</style>\n",
       "<table border=\"1\" class=\"dataframe\">\n",
       "  <thead>\n",
       "    <tr style=\"text-align: right;\">\n",
       "      <th></th>\n",
       "      <th>R&amp;D Spend</th>\n",
       "      <th>Administration</th>\n",
       "      <th>Marketing Spend</th>\n",
       "      <th>Profit</th>\n",
       "    </tr>\n",
       "  </thead>\n",
       "  <tbody>\n",
       "    <tr>\n",
       "      <th>0</th>\n",
       "      <td>165349.20</td>\n",
       "      <td>136897.80</td>\n",
       "      <td>471784.10</td>\n",
       "      <td>192261.83</td>\n",
       "    </tr>\n",
       "    <tr>\n",
       "      <th>1</th>\n",
       "      <td>162597.70</td>\n",
       "      <td>151377.59</td>\n",
       "      <td>443898.53</td>\n",
       "      <td>191792.06</td>\n",
       "    </tr>\n",
       "    <tr>\n",
       "      <th>2</th>\n",
       "      <td>153441.51</td>\n",
       "      <td>101145.55</td>\n",
       "      <td>407934.54</td>\n",
       "      <td>191050.39</td>\n",
       "    </tr>\n",
       "    <tr>\n",
       "      <th>3</th>\n",
       "      <td>144372.41</td>\n",
       "      <td>118671.85</td>\n",
       "      <td>383199.62</td>\n",
       "      <td>182901.99</td>\n",
       "    </tr>\n",
       "    <tr>\n",
       "      <th>4</th>\n",
       "      <td>142107.34</td>\n",
       "      <td>91391.77</td>\n",
       "      <td>366168.42</td>\n",
       "      <td>166187.94</td>\n",
       "    </tr>\n",
       "  </tbody>\n",
       "</table>\n",
       "</div>"
      ],
      "text/plain": [
       "   R&D Spend  Administration  Marketing Spend     Profit\n",
       "0  165349.20       136897.80        471784.10  192261.83\n",
       "1  162597.70       151377.59        443898.53  191792.06\n",
       "2  153441.51       101145.55        407934.54  191050.39\n",
       "3  144372.41       118671.85        383199.62  182901.99\n",
       "4  142107.34        91391.77        366168.42  166187.94"
      ]
     },
     "execution_count": 10,
     "metadata": {},
     "output_type": "execute_result"
    }
   ],
   "source": [
    "df.head()"
   ]
  },
  {
   "cell_type": "code",
   "execution_count": 3,
   "id": "26802ea8",
   "metadata": {},
   "outputs": [
    {
     "data": {
      "text/html": [
       "<div>\n",
       "<style scoped>\n",
       "    .dataframe tbody tr th:only-of-type {\n",
       "        vertical-align: middle;\n",
       "    }\n",
       "\n",
       "    .dataframe tbody tr th {\n",
       "        vertical-align: top;\n",
       "    }\n",
       "\n",
       "    .dataframe thead th {\n",
       "        text-align: right;\n",
       "    }\n",
       "</style>\n",
       "<table border=\"1\" class=\"dataframe\">\n",
       "  <thead>\n",
       "    <tr style=\"text-align: right;\">\n",
       "      <th></th>\n",
       "      <th>R&amp;D Spend</th>\n",
       "      <th>Administration</th>\n",
       "      <th>Marketing Spend</th>\n",
       "      <th>Profit</th>\n",
       "    </tr>\n",
       "  </thead>\n",
       "  <tbody>\n",
       "    <tr>\n",
       "      <th>995</th>\n",
       "      <td>54135.00</td>\n",
       "      <td>118451.999</td>\n",
       "      <td>173232.6695</td>\n",
       "      <td>95279.96251</td>\n",
       "    </tr>\n",
       "    <tr>\n",
       "      <th>996</th>\n",
       "      <td>134970.00</td>\n",
       "      <td>130390.080</td>\n",
       "      <td>329204.0228</td>\n",
       "      <td>164336.60550</td>\n",
       "    </tr>\n",
       "    <tr>\n",
       "      <th>997</th>\n",
       "      <td>100275.47</td>\n",
       "      <td>241926.310</td>\n",
       "      <td>227142.8200</td>\n",
       "      <td>413956.48000</td>\n",
       "    </tr>\n",
       "    <tr>\n",
       "      <th>998</th>\n",
       "      <td>128456.23</td>\n",
       "      <td>321652.140</td>\n",
       "      <td>281692.3200</td>\n",
       "      <td>333962.19000</td>\n",
       "    </tr>\n",
       "    <tr>\n",
       "      <th>999</th>\n",
       "      <td>161181.72</td>\n",
       "      <td>270939.860</td>\n",
       "      <td>295442.1700</td>\n",
       "      <td>476485.43000</td>\n",
       "    </tr>\n",
       "  </tbody>\n",
       "</table>\n",
       "</div>"
      ],
      "text/plain": [
       "     R&D Spend  Administration  Marketing Spend        Profit\n",
       "995   54135.00      118451.999      173232.6695   95279.96251\n",
       "996  134970.00      130390.080      329204.0228  164336.60550\n",
       "997  100275.47      241926.310      227142.8200  413956.48000\n",
       "998  128456.23      321652.140      281692.3200  333962.19000\n",
       "999  161181.72      270939.860      295442.1700  476485.43000"
      ]
     },
     "execution_count": 3,
     "metadata": {},
     "output_type": "execute_result"
    }
   ],
   "source": [
    "df.tail()"
   ]
  },
  {
   "cell_type": "code",
   "execution_count": 4,
   "id": "78ed2626",
   "metadata": {},
   "outputs": [
    {
     "data": {
      "text/plain": [
       "(1000, 4)"
      ]
     },
     "execution_count": 4,
     "metadata": {},
     "output_type": "execute_result"
    }
   ],
   "source": [
    "df.shape"
   ]
  },
  {
   "cell_type": "code",
   "execution_count": 5,
   "id": "fa9409b0",
   "metadata": {},
   "outputs": [
    {
     "data": {
      "text/plain": [
       "R&D Spend          0\n",
       "Administration     0\n",
       "Marketing Spend    0\n",
       "Profit             0\n",
       "dtype: int64"
      ]
     },
     "execution_count": 5,
     "metadata": {},
     "output_type": "execute_result"
    }
   ],
   "source": [
    "df.isna().sum()"
   ]
  },
  {
   "cell_type": "code",
   "execution_count": 6,
   "id": "b5f70695",
   "metadata": {},
   "outputs": [
    {
     "data": {
      "text/plain": [
       "<AxesSubplot:>"
      ]
     },
     "execution_count": 6,
     "metadata": {},
     "output_type": "execute_result"
    },
    {
     "data": {
      "image/png": "[encoded data removed]",
      "text/plain": [
       "<Figure size 432x288 with 2 Axes>"
      ]
     },
     "metadata": {
      "needs_background": "light"
     },
     "output_type": "display_data"
    }
   ],
   "source": [
    "sns.heatmap(df.corr())"
   ]
  },
  {
   "cell_type": "code",
   "execution_count": 7,
   "id": "17867b5b",
   "metadata": {},
   "outputs": [
    {
     "data": {
      "text/plain": [
       "array([[165349.2 , 136897.8 , 471784.1 ],\n",
       "       [162597.7 , 151377.59, 443898.53],\n",
       "       [153441.51, 101145.55, 407934.54],\n",
       "       ...,\n",
       "       [100275.47, 241926.31, 227142.82],\n",
       "       [128456.23, 321652.14, 281692.32],\n",
       "       [161181.72, 270939.86, 295442.17]])"
      ]
     },
     "execution_count": 7,
     "metadata": {},
     "output_type": "execute_result"
    }
   ],
   "source": [
    "X = df.iloc[:, :-1].values\n",
    "X "
   ]
  },
  {
   "cell_type": "code",
   "execution_count": 9,
   "id": "928c6a55",
   "metadata": {},
   "outputs": [
    {
     "data": {
      "text/plain": [
       "array([192261.83   , 191792.06   , 191050.39   , 182901.99   ,\n",
       "       166187.94   , 156991.12   , 156122.51   , 155752.6    ,\n",
       "       152211.77   , 149759.96   , 146121.95   , 144259.4    ,\n",
       "       141585.52   , 134307.35   , 132602.65   , 129917.04   ,\n",
       "       126992.93   , 125370.37   , 124266.9    , 122776.86   ,\n",
       "       118474.03   , 111313.02   , 110352.25   , 108733.99   ,\n",
       "       108552.04   , 107404.34   , 105733.54   , 105008.31   ,\n",
       "       103282.38   , 101004.64   ,  99937.59   ,  97483.56   ,\n",
       "        97427.84   ,  96778.92   ,  96712.8    ,  96479.51   ,\n",
       "        90708.19   ,  89949.14   ,  81229.06   ,  81005.76   ,\n",
       "        78239.91   ,  77798.83   ,  71498.49   ,  69758.98   ,\n",
       "        65200.33   ,  64926.08   ,  49490.75   ,  42559.73   ,\n",
       "        35673.41   ,  14681.4    , 123485.2464 ,  82155.48418,\n",
       "       125867.0108 , 104976.1696 ,  89803.10053,  75297.23305,\n",
       "       114284.5283 , 171985.0761 ,  72337.96774, 169566.5772 ,\n",
       "       158670.9451 , 114522.8756 ,  85842.60573, 101106.2297 ,\n",
       "        59328.81874, 157142.6178 ,  68669.64059, 177717.3712 ,\n",
       "        94409.4396 , 183945.1553 ,  82484.38635, 144515.3371 ,\n",
       "       105333.2634 , 122331.0988 , 168459.4156 ,  60947.70089,\n",
       "       162733.9549 , 181574.4968 ,  73577.54452,  84782.43014,\n",
       "       168870.3298 ,  72607.06952,  56788.15621,  67473.63267,\n",
       "        52731.98078, 140237.9002 , 166598.769  , 102990.7964 ,\n",
       "        78406.85364, 111764.3688 ,  63662.63887, 142575.2414 ,\n",
       "       115980.2967 , 132915.7689 , 155954.2985 , 167412.0544 ,\n",
       "        88710.46186, 164139.2642 , 131574.5314 , 169314.5613 ,\n",
       "        86636.24242, 177468.7724 , 157979.8234 ,  56944.49153,\n",
       "        98500.64098,  87218.86913, 178759.6067 , 101668.3534 ,\n",
       "       151782.7938 ,  68872.96194, 139016.2635 ,  69109.60065,\n",
       "        55091.53354, 136286.8026 , 122307.1786 , 154356.7737 ,\n",
       "       114806.5004 ,  55623.75707,  73896.1952 , 172901.7308 ,\n",
       "       129480.6633 , 115890.5961 , 169404.2619 , 161666.9449 ,\n",
       "        50116.99489,  86613.17655,  91640.68127, 138793.2935 ,\n",
       "       128986.8828 , 111461.9497 , 129804.4397 , 178847.5987 ,\n",
       "       101028.4891 , 136845.5092 ,  94579.44358, 148748.3508 ,\n",
       "        91139.21223, 173343.3994 , 175906.2735 , 112883.4905 ,\n",
       "       138079.1059 ,  78689.62408, 140832.487  , 182316.0217 ,\n",
       "       129232.9188 , 152520.9015 , 133849.5093 , 169431.5992 ,\n",
       "       109333.0556 , 121505.8533 , 108917.0157 , 169324.8128 ,\n",
       "       161423.4719 , 171478.4813 , 137670.7546 , 105582.7164 ,\n",
       "       141472.3512 , 169572.5573 , 126993.8211 , 119743.4502 ,\n",
       "       103155.6747 ,  86313.32028, 105674.9799 , 152268.8856 ,\n",
       "       101971.6268 , 166402.282  ,  84757.65569, 142289.0538 ,\n",
       "       155518.6099 , 177675.5109 , 111138.1732 , 142490.6665 ,\n",
       "        65814.59883,  88870.21435, 125271.5697 , 163462.6654 ,\n",
       "       154539.592  , 151150.6182 , 178296.5808 , 106401.1276 ,\n",
       "        76644.45054, 110228.3529 , 122570.3004 ,  54205.63339,\n",
       "        73850.06347, 117353.9972 ,  63814.70273,  67199.40514,\n",
       "       181391.6784 , 181550.5766 , 156935.8793 , 181579.6225 ,\n",
       "        94376.97653,  76229.26494,  89583.54765, 176839.1597 ,\n",
       "       113578.8837 ,  74477.11333,  88648.95289,  94066.01447,\n",
       "       146874.0356 , 163549.8031 , 138872.7426 , 121482.7874 ,\n",
       "        89594.65343,  94297.52743, 159509.0049 ,  81169.63193,\n",
       "       117700.8395 ,  61393.64099, 169661.4036 , 171651.9025 ,\n",
       "       128265.0066 ,  75270.75002, 109658.5406 , 145976.1753 ,\n",
       "        53395.76517, 144038.6425 ,  54300.45973,  58223.36571,\n",
       "        66007.66868, 121491.3304 ,  89915.86699, 182098.1774 ,\n",
       "        68160.48294, 136575.5531 , 111422.6523 , 141814.0678 ,\n",
       "        85830.64565, 121927.8732 ,  96616.9285 ,  90687.2921 ,\n",
       "       155424.6379 , 122954.7315 , 113188.4725 , 163883.8311 ,\n",
       "        68984.01982,  99306.23774,  52325.33808,  58694.93455,\n",
       "        80229.05713, 104723.2993 ,  51256.61958,  51336.06868,\n",
       "        53225.76119,  64672.41127, 173263.9503 , 155791.1289 ,\n",
       "       118334.7237 ,  90164.46578, 140872.6387 , 116492.8715 ,\n",
       "        58918.75889,  64349.48913, 164375.9029 , 169059.9825 ,\n",
       "       109663.6663 ,  68719.18949, 102833.6068 , 158338.6258 ,\n",
       "       168686.6571 , 170883.8945 ,  92949.45565, 110023.323  ,\n",
       "       126506.0207 , 130602.3478 , 117289.0711 , 117645.3106 ,\n",
       "       148944.8378 , 114970.5243 , 170174.8327 ,  92758.09438,\n",
       "       142762.3312 , 168802.8408 ,  56138.89476, 160646.0668 ,\n",
       "       162479.376  , 146925.293  ,  61291.12602, 112642.5803 ,\n",
       "       116273.3187 , 109285.2152 , 103264.1697 ,  60111.34964,\n",
       "        55227.36587,  73733.02555,  98129.02423,  82589.46419,\n",
       "       168876.3098 , 104996.6726 , 147736.0156 , 181512.1335 ,\n",
       "        95260.31381,  91977.27207, 126295.865  , 174329.2516 ,\n",
       "       118265.5261 , 153825.4044 ,  94093.35179, 167934.0264 ,\n",
       "       103243.6667 , 160935.6715 , 107019.6345 , 173336.5651 ,\n",
       "        73154.67029, 145877.9318 , 164180.2702 , 184632.0056 ,\n",
       "       151992.0952 , 100693.6069 , 180684.3252 ,  83391.64379,\n",
       "       121140.2166 ,  66656.07583, 123814.1486 , 150292.0553 ,\n",
       "       159514.1307 ,  87019.81924,  96793.76682, 105154.7165 ,\n",
       "       175999.3913 , 169169.3318 , 182911.4628 , 134979.7368 ,\n",
       "        70244.95388, 169623.8148 , 135817.7966 ,  50070.86316,\n",
       "        60368.49134, 182028.1255 ,  92289.08842, 184555.1194 ,\n",
       "       135591.4094 ,  73790.26307, 160667.424  , 121248.7116 ,\n",
       "       135506.8346 , 154351.6479 , 116529.6061 , 142869.1176 ,\n",
       "       131062.8109 , 165941.819  , 172384.0302 , 142712.7823 ,\n",
       "        91790.18226, 100435.6109 , 144750.2672 , 137468.2876 ,\n",
       "       161824.1346 ,  92920.40974, 108421.5267 , 141046.0598 ,\n",
       "       156147.3684 , 182641.5067 , 150475.728  ,  79794.22283,\n",
       "        55832.20416, 152920.7099 , 145711.345  , 128195.809  ,\n",
       "        80504.99325, 172615.5432 , 102213.3913 ,  91240.87291,\n",
       "       158160.0789 ,  54244.9308 , 171176.9165 , 167377.0285 ,\n",
       "       154029.5801 , 105503.2673 ,  65204.63479,  65181.56893,\n",
       "       169235.1122 , 144807.5047 , 171235.8626 ,  92485.57543,\n",
       "       161936.0467 , 107910.6604 , 183965.6583 , 152134.7618 ,\n",
       "        51913.56964,  94320.5933 , 103906.5968 , 136632.7906 ,\n",
       "        72949.64036,  51690.5996 , 106212.3292 , 149849.5324 ,\n",
       "        64574.16776, 120375.6258 , 154765.9792 ,  86983.939  ,\n",
       "       171557.9304 , 157690.2186 ,  67839.26938, 175747.3753 ,\n",
       "        53177.92087, 123648.4161 ,  59636.36364, 105740.7603 ,\n",
       "       165029.4358 , 180633.922  , 126997.2382 , 171687.7827 ,\n",
       "       125636.3521 ,  52225.38599,  59981.49735,  88971.02073,\n",
       "        63306.39937,  58666.74293,  77017.77587, 161008.2863 ,\n",
       "        77847.29279,  97478.0542 ,  85976.72948, 149792.2949 ,\n",
       "       128937.3339 ,  80082.11902, 154238.8815 , 174414.6808 ,\n",
       "       156182.3943 ,  71376.03566, 145680.5905 , 185028.3968 ,\n",
       "        68921.65655, 172937.611  , 150707.2409 , 185352.1732 ,\n",
       "       106018.405  , 131659.9605 , 114839.8177 ,  97372.12207,\n",
       "        78308.61013,  85769.13667, 126436.8231 ,  67226.74247,\n",
       "       174996.4532 ,  59225.44949, 102740.489  , 141180.1836 ,\n",
       "       157325.4362 ,  90312.25819, 162440.0786 , 126117.3181 ,\n",
       "        58784.63514, 165530.0505 ,  90550.60548, 161123.6156 ,\n",
       "        87309.42402,  72735.21323,  97238.85262,  68648.28331,\n",
       "       157529.6118 ,  85529.93509,  80539.1649 , 163525.0287 ,\n",
       "       139080.3354 , 165186.6254 ,  68347.57275,  90544.62544,\n",
       "        88027.88306,  64997.04199, 184979.7022 ,  70555.91594,\n",
       "        91209.26412, 120790.8114 , 157615.041  , 145240.6305 ,\n",
       "        65085.034  ,  75968.70607, 181243.886  , 102274.046  ,\n",
       "       167257.4277 ,  95537.9585 , 158961.4042 ,  80106.89347,\n",
       "       127075.833  , 184887.4387 ,  67282.27141,  77242.4545 ,\n",
       "       164713.348  ,  84909.71956, 160000.2225 ,  73872.27504,\n",
       "       101119.044  , 107252.8561 , 117043.8895 , 155881.6838 ,\n",
       "       141832.0079 ,  81963.26862, 142494.938  , 143333.8521 ,\n",
       "        72478.92582, 134122.8826 ,  57893.60924, 174050.7527 ,\n",
       "        66273.3533 , 139130.7386 ,  99032.8645 , 141073.3972 ,\n",
       "       156340.4382 ,  88072.30621, 126393.2542 ,  65664.24355,\n",
       "       134894.3077 , 110963.8978 , 103171.0519 ,  84808.91317,\n",
       "       139555.3214 ,  68705.52083,  96214.55727,  98444.25774,\n",
       "       145073.1894 , 138588.2636 , 138736.9103 ,  77629.44849,\n",
       "       135641.8126 ,  91657.76709, 169403.4076 , 133617.1421 ,\n",
       "        70509.78421, 124269.4859 ,  54119.34996, 174320.7087 ,\n",
       "       151804.1511 , 180524.5727 ,  54971.93275,  69995.5008 ,\n",
       "        77837.89559, 100556.066  , 184099.7821 , 151774.2509 ,\n",
       "       153976.614  , 183093.4268 ,  91843.14832,  59342.48741,\n",
       "       115751.3466 , 108629.9738 , 182876.4368 , 143061.3332 ,\n",
       "       176623.024  , 154901.8116 , 181946.9678 ,  99906.80457,\n",
       "        77132.25091, 175771.2955 ,  78153.1291 ,  56852.22806,\n",
       "       169564.8687 ,  75445.02546, 148158.0355 , 144203.5207 ,\n",
       "       142226.6905 , 175396.2616 , 118130.5481 , 108776.0576 ,\n",
       "       107382.7084 , 120617.3903 , 150393.716  , 106070.5168 ,\n",
       "       160842.5538 , 146499.0017 ,  97712.98433, 125981.4858 ,\n",
       "        71885.19331, 130070.1243 , 104151.7784 , 106169.6146 ,\n",
       "       147194.3948 , 141527.0259 , 113981.2549 , 184581.6024 ,\n",
       "        54060.40386,  76376.20305,  99301.96628,  98464.76074,\n",
       "       174007.1838 , 128337.6214 , 176344.525  , 107669.7503 ,\n",
       "        90482.26217,  79710.50227,  84583.38025, 166679.9267 ,\n",
       "        74052.53052, 129889.8688 ,  84552.62576, 131051.7051 ,\n",
       "       116205.8296 ,  65471.1737 , 128060.831  , 127773.7891 ,\n",
       "       108896.5127 , 176833.1797 ,  54991.58145, 181929.0277 ,\n",
       "       102873.7585 ,  57541.6412 ,  65513.03398, 162182.9369 ,\n",
       "        51671.80519, 138022.7227 , 180257.1795 ,  60408.64304,\n",
       "       178552.8682 , 182059.7343 , 114403.2748 ,  85101.93511,\n",
       "       157086.2346 , 150024.6621 , 127248.3999 , 154190.1869 ,\n",
       "       126058.372  , 138213.2296 , 101352.2656 , 100958.4372 ,\n",
       "        63373.88839, 179522.4889 , 184865.2271 , 102619.1797 ,\n",
       "       175826.8244 , 165119.1364 , 134268.9664 ,  61306.50327,\n",
       "       165495.0246 ,  77667.8916 , 154051.7917 , 111643.0594 ,\n",
       "       106517.3112 ,  68575.66854, 155915.0011 , 124695.7773 ,\n",
       "       172769.3156 , 185068.5485 , 157591.1208 , 106865.8621 ,\n",
       "       104824.1057 , 120990.7156 ,  56620.7151 , 159613.2285 ,\n",
       "       175705.515  ,  98776.57709, 165987.9507 ,  52609.81711,\n",
       "       117842.6519 ,  80045.38449,  80066.74177, 137719.4492 ,\n",
       "       149477.9157 , 180783.423  , 103404.2734 ,  88302.96488,\n",
       "       100992.6089 , 141082.7944 , 142586.3472 , 175166.4572 ,\n",
       "        56991.47755, 109105.8141 , 167373.6113 , 153627.2089 ,\n",
       "       126846.883  ,  76545.35274,  65255.03798, 171780.0462 ,\n",
       "       118944.6878 , 168285.1402 ,  95226.99644,  59264.74689,\n",
       "       163470.354  , 162747.6235 ,  56775.34184,  79808.74578,\n",
       "        83356.61784,  74502.74207, 145965.9238 ,  59784.15604,\n",
       "       133834.1321 ,  71717.75221,  91441.63138, 164779.9827 ,\n",
       "        98397.27172,  92502.66126, 136315.8485 ,  79796.7857 ,\n",
       "       144805.7962 ,  94294.11026, 100589.3834 ,  81824.87341,\n",
       "        64950.05596, 113472.9515 , 116685.0871 , 114373.3746 ,\n",
       "        99277.19183, 109998.5485 , 124765.8292 , 163155.1205 ,\n",
       "       144820.3191 , 139915.8323 ,  50468.96294,  92362.55748,\n",
       "       158565.8673 ,  79167.17296, 103903.1796 ,  98368.22581,\n",
       "       182202.4009 ,  70232.13951,  53483.75718, 120345.7256 ,\n",
       "       143415.8641 ,  56789.0105 , 110848.5685 , 144287.2413 ,\n",
       "        90108.93684,  85570.94108,  98808.18587,  61960.03617,\n",
       "       127725.0945 ,  70282.5427 , 159431.2644 ,  50994.35213,\n",
       "        83632.55396,  88481.51178, 168402.1781 ,  87716.921  ,\n",
       "       173519.3834 , 177513.1956 , 181258.409  , 119914.3085 ,\n",
       "       152243.2568 , 142852.0318 , 176432.517  , 164424.5975 ,\n",
       "        57258.01646, 177442.2894 , 149190.8738 , 130689.4855 ,\n",
       "       107994.381  , 111257.774  , 123690.2763 , 163138.0347 ,\n",
       "        91370.72519, 166902.0425 ,  55641.69719,  58179.79685,\n",
       "       156545.4682 , 104862.5488 , 181441.2273 , 164884.2062 ,\n",
       "       132897.8287 ,  81580.54608, 127455.1384 , 116045.2229 ,\n",
       "       161630.2104 , 140594.1397 ,  51276.26828, 121248.7116 ,\n",
       "        65868.41919,  60243.7648 ,  52276.64348, 162399.9269 ,\n",
       "        68210.88613, 119961.2945 ,  72657.47271, 182979.8061 ,\n",
       "       112054.8279 ,  74208.01155, 164330.6254 , 174254.9283 ,\n",
       "       119482.037  , 117637.622  , 160252.2384 , 152175.7678 ,\n",
       "       106433.5906 , 120445.6777 , 141408.2794 ,  52086.1365 ,\n",
       "       133019.1381 , 172966.6569 , 163028.6854 , 109278.3809 ,\n",
       "       144130.0517 , 140289.1577 , 141273.3013 ,  57992.70704,\n",
       "       125971.2343 , 120723.3224 , 128977.4856 ,  65219.15775,\n",
       "       100404.0021 , 177911.2954 , 137842.4672 , 127909.6214 ,\n",
       "       154173.101  , 170343.1281 ,  59766.21593,  90712.92084,\n",
       "        93280.9207 ,  87045.44798,  79170.59013, 181485.6505 ,\n",
       "       174421.5151 ,  63924.90632, 140964.9022 ,  55195.75709,\n",
       "       140870.0758 , 169745.1241 ,  83444.60985, 185032.6682 ,\n",
       "       168246.6971 , 156488.2307 , 152900.2069 , 167391.5514 ,\n",
       "       163226.881  , 130427.2181 ,  87219.72342, 125467.2024 ,\n",
       "       173897.8345 , 142927.2094 ,  76356.55435, 158208.7735 ,\n",
       "        67733.33725,  97340.51329, 170464.4375 , 120738.6997 ,\n",
       "       149669.2769 ,  79513.16096, 168145.8907 , 170465.2918 ,\n",
       "       125667.9609 ,  63742.94226, 159389.4041 ,  72870.19126,\n",
       "       124577.0308 , 177000.6208 , 166579.1203 , 143338.9779 ,\n",
       "       169673.3637 ,  74324.19518, 184669.5944 , 136050.1639 ,\n",
       "       184516.6762 ,  95065.53537, 170547.3037 , 146196.5825 ,\n",
       "       109344.1613 , 150516.734  ,  55771.54948,  88082.55771,\n",
       "       109877.2392 , 185272.7241 ,  88592.56966,  86750.71746,\n",
       "        99201.1599 ,  97955.60308, 164695.4079 , 173531.3435 ,\n",
       "       110363.331  , 144184.7263 , 102771.2435 ,  87654.55773,\n",
       "       181102.0736 ,  64966.2875 , 180257.1795 , 140589.8682 ,\n",
       "        71772.42685,  77627.73991,  51286.51978,  80859.52417,\n",
       "        86101.45602, 132471.5373 ,  50428.81124,  99424.12995,\n",
       "        97446.44542, 138908.6228 , 148134.1153 , 159173.2684 ,\n",
       "        82229.80752, 100759.3874 , 113444.7599 ,  62531.55709,\n",
       "        87112.08271, 128995.4258 ,  53649.48971, 104159.467  ,\n",
       "        63978.72668, 167407.783  , 116603.0751 , 165584.7252 ,\n",
       "        88737.79919, 152894.2269 ,  64769.80049,  51324.1086 ,\n",
       "        57067.50948,  66357.07385,  71235.93187, 166415.9507 ,\n",
       "        57463.90068,  80804.84952,  70902.75824, 159247.5918 ,\n",
       "       112487.9536 , 116260.5043 , 121916.7675 , 161488.398  ,\n",
       "       161456.7893 , 176018.1857 , 118219.3944 , 134983.154  ,\n",
       "       180378.4888 , 139722.7625 ,  84378.35032, 178978.3053 ,\n",
       "        97882.98831,  54932.63535,  95148.40164, 106235.395  ,\n",
       "       103813.479  , 134723.4494 , 174364.2776 ,  82522.82946,\n",
       "        65743.69265,  96581.04826,  70153.5447 ,  93606.40571,\n",
       "       151891.2888 ,  79299.58812,  83553.10486,  60650.40749,\n",
       "       123228.959  ,  52481.67341, 161467.0408 , 107682.5646 ,\n",
       "       140522.3792 , 102118.5649 ,  57143.54142, 159227.0888 ,\n",
       "       163673.6754 , 157493.7316 ,  91623.59544, 157949.9232 ,\n",
       "        94974.98049, 148975.5923 , 158516.3184 , 110682.8359 ,\n",
       "       146690.3629 ,  58605.23395, 120412.3603 , 161783.1286 ,\n",
       "        76487.26093,  95178.30183, 104231.2275 ,  58963.18204,\n",
       "        76017.40068,  59803.80475, 129642.9786 ,  51003.74933,\n",
       "        77362.05529, 185502.5285 , 180753.5228 , 172495.0881 ,\n",
       "       140251.5689 ,  63093.68082, 171416.9724 , 111814.772  ,\n",
       "       123671.4819 ,  92903.32391, 105457.9899 ,  74425.00156,\n",
       "       173861.9543 ,  62223.15791,  60869.96038, 110395.794  ,\n",
       "       161076.6296 , 107704.7762 , 141344.2075 , 168760.9805 ,\n",
       "        97599.36358,  89558.7732 ,  99322.46927,  60065.21791,\n",
       "       102489.3274 ,  94400.89669, 154569.4922 ,  90808.60147,\n",
       "       138855.6568 , 103378.6447 , 134808.0242 ,  84305.73556,\n",
       "        83178.92524,  86221.9111 , 165330.1463 , 161035.6236 ,\n",
       "       138841.9881 ,  89012.02672, 132077.709  ,  95279.96251,\n",
       "       164336.6055 , 413956.48   , 333962.19   , 476485.43   ])"
      ]
     },
     "execution_count": 9,
     "metadata": {},
     "output_type": "execute_result"
    }
   ],
   "source": [
    "y = df.iloc[:, 3].values\n",
    "y"
   ]
  },
  {
   "cell_type": "code",
   "execution_count": 11,
   "id": "716dcb3f",
   "metadata": {},
   "outputs": [],
   "source": [
    "from sklearn.model_selection import train_test_split\n",
    "from sklearn.metrics import r2_score\n",
    "from sklearn.linear_model import LinearRegression\n",
    "from sklearn.tree import DecisionTreeRegressor\n",
    "from sklearn.svm import SVR\n",
    "from sklearn.ensemble import RandomForestRegressor"
   ]
  },
  {
   "cell_type": "code",
   "execution_count": 13,
   "id": "20ee76be",
   "metadata": {},
   "outputs": [],
   "source": [
    "X_train, X_test, y_train, y_test = train_test_split(X, y, test_size = 0.2, random_state = 0)"
   ]
  },
  {
   "cell_type": "code",
   "execution_count": 14,
   "id": "4e7cd33f",
   "metadata": {},
   "outputs": [],
   "source": [
    "lr = LinearRegression()\n",
    "rf = RandomForestRegressor()\n",
    "rf_1 = RandomForestRegressor(n_estimators=100, criterion='mse')\n",
    "dt = DecisionTreeRegressor()\n",
    "svr = SVR()"
   ]
  },
  {
   "cell_type": "markdown",
   "id": "19cf78ae",
   "metadata": {},
   "source": [
    "## LINEAR MODEL"
   ]
  },
  {
   "cell_type": "code",
   "execution_count": 16,
   "id": "bad06803",
   "metadata": {},
   "outputs": [
    {
     "data": {
      "text/plain": [
       "LinearRegression()"
      ]
     },
     "execution_count": 16,
     "metadata": {},
     "output_type": "execute_result"
    }
   ],
   "source": [
    "lr.fit(X_train, y_train)"
   ]
  },
  {
   "cell_type": "code",
   "execution_count": 17,
   "id": "b15f686f",
   "metadata": {},
   "outputs": [
    {
     "data": {
      "text/plain": [
       "array([ 89277.93054003,  87914.47646729,  94381.65899976, 176043.03107892,\n",
       "        83597.58708608, 110755.97826629, 132203.39808538,  90960.58209961,\n",
       "       164777.58862235,  53593.01784897,  66439.00295311, 150930.24999022,\n",
       "       126400.09021075,  58827.17115615, 176995.47531643,  75502.66876761,\n",
       "       118614.07271066, 164056.81999329, 171382.58712591, 182248.50594104,\n",
       "       119169.40047641,  85157.5364504 , 181354.4095907 ,  83632.76748754,\n",
       "       104492.155517  , 100720.13283149,  54102.82823857,  57069.0105291 ,\n",
       "        68385.07833508, 209487.80143381, 121144.48546932, 111210.74895612,\n",
       "       101672.57715358, 138323.66305576,  63458.96777026, 108343.97745534,\n",
       "       186193.85616801, 171805.08295377, 175006.49706597, 118037.4577271 ,\n",
       "        96916.36211187, 164934.61324361, 107210.48293426,  50564.93145379,\n",
       "       116879.93764961,  58121.84755216, 158779.76381228,  78910.0167059 ,\n",
       "       160090.87630219, 131502.96069503, 185242.27000119, 174971.3167491 ,\n",
       "        93232.71947067,  78527.32288643, 180925.38061998,  84829.75831993,\n",
       "       143265.21863925, 170798.5810873 ,  84550.88947886, 105491.79298712,\n",
       "       142024.46685701,  52715.22459865, 141326.86572433, 139358.48092734,\n",
       "        97781.28446034, 113953.10210961, 126937.2344394 , 152316.87154868,\n",
       "        59051.98237038, 174647.82889815, 124109.07562284, 168547.89516648,\n",
       "        91647.02848248, 156351.45989065,  83794.94044835,  78063.97165886,\n",
       "       120779.81088059,  93565.64593004, 138504.71323342, 143088.45863521,\n",
       "       171510.76909404, 139566.98895483, 106554.06862394, 155124.43708094,\n",
       "       140212.248526  , 110356.98135746,  69161.62073448,  88334.06684026,\n",
       "       139617.61438562, 148660.68675731, 158097.60778286,  58022.3128405 ,\n",
       "        93892.56598982, 113012.67060801,  56743.80653251, 107599.18317463,\n",
       "       147716.82305753, 152325.452171  , 167988.44134297, 118235.66916006,\n",
       "       121129.04043998, 139394.5193149 , 157708.90755314, 122327.74733984,\n",
       "        87276.93945841, 105159.7245032 ,  95520.30184974, 178569.15356871,\n",
       "       181423.91223834, 110015.47426511, 164736.40188457, 167288.26607214,\n",
       "       158183.41353052, 174962.73612678, 169678.81546483,  51791.9542635 ,\n",
       "       176419.71848815, 104238.17031369,  82198.09462578, 139072.74760533,\n",
       "       144638.96930653, 162042.10003438, 170024.61282605, 120816.7073495 ,\n",
       "       159243.97309988, 109699.70896579, 169854.71730294,  60249.83118995,\n",
       "       158519.77227265, 157652.27571211, 174691.58983734, 156475.87832252,\n",
       "       103200.77831463,  85821.67323842, 141087.46756425, 166098.13981593,\n",
       "       121547.77274226, 170953.0466192 , 100872.86718388,  82465.80871704,\n",
       "       178124.67955799, 101277.01244293,  70694.11215373,  90435.45070211,\n",
       "        61434.80919865,  69098.9824832 ,  73144.72557497, 176395.69283649,\n",
       "        90072.49217018, 128705.84414107,  93040.51453254,  88585.67389869,\n",
       "       172318.20162603,  60382.83016276, 169378.49518418, 165932.53456169,\n",
       "       165788.38084228, 102537.49951271, 181773.99987908,  74071.4281147 ,\n",
       "        90754.6481996 , 135275.84136665,  65109.8712218 ,  71962.3217858 ,\n",
       "        60791.26577526, 184650.20998829, 176648.81996911, 159088.66463066,\n",
       "       141541.38025731, 154792.36869226,  58737.07505717,  90986.32389264,\n",
       "       153066.81416894, 168760.69346284,  72671.93565439, 116430.31530999,\n",
       "        80456.23709768, 150010.41185751, 116990.62711961, 129676.15531013,\n",
       "       174896.66567732, 294038.61507917, 145754.44457554, 150828.14106862,\n",
       "        86475.51334733,  70336.30197202,  70465.86874345,  68522.36757356,\n",
       "       120850.17160958,  89863.12606133, 167187.01530581, 124999.73969042,\n",
       "        67396.59561476, 141031.13026096, 118029.73526005, 165379.94531436,\n",
       "       169018.11087499, 146493.232446  , 141578.27671557, 109270.6799844 ])"
      ]
     },
     "execution_count": 17,
     "metadata": {},
     "output_type": "execute_result"
    }
   ],
   "source": [
    "y_pred_lr = lr.predict(X_test)\n",
    "y_pred_lr"
   ]
  },
  {
   "cell_type": "code",
   "execution_count": 18,
   "id": "f1ba1132",
   "metadata": {},
   "outputs": [
    {
     "data": {
      "text/plain": [
       "0.9117375294964101"
      ]
     },
     "execution_count": 18,
     "metadata": {},
     "output_type": "execute_result"
    }
   ],
   "source": [
    "r2_score(y_test, y_pred_lr)"
   ]
  },
  {
   "cell_type": "markdown",
   "id": "b62ce8e0",
   "metadata": {},
   "source": [
    "## RANDOM FOREST MODEL --1"
   ]
  },
  {
   "cell_type": "code",
   "execution_count": 20,
   "id": "0282bde9",
   "metadata": {},
   "outputs": [
    {
     "data": {
      "text/plain": [
       "RandomForestRegressor()"
      ]
     },
     "execution_count": 20,
     "metadata": {},
     "output_type": "execute_result"
    }
   ],
   "source": [
    "rf.fit(X_train, y_train)"
   ]
  },
  {
   "cell_type": "code",
   "execution_count": 21,
   "id": "d415d2e5",
   "metadata": {},
   "outputs": [
    {
     "data": {
      "text/plain": [
       "array([ 88903.6427704,  87621.9494295,  94150.7858014, 175306.484084 ,\n",
       "        83365.6049864, 110335.062475 , 111903.53932  ,  90708.8629541,\n",
       "       164182.473374 ,  53454.0620139,  66377.0813541, 150509.395619 ,\n",
       "       125999.716374 ,  58694.5330289, 176436.651779 ,  75380.7058623,\n",
       "       118241.409465 , 163488.311219 , 146946.63972  , 181559.726058 ,\n",
       "        97457.1299647,  84811.6212743, 180661.387468 ,  83365.6049864,\n",
       "       104201.495101 , 100485.9201334,  43214.2124541,  56944.3804679,\n",
       "        68196.4998625, 190224.571314 , 120785.873608 , 110896.468566 ,\n",
       "       101179.17759  , 137756.867168 ,  63362.3383699, 107838.481329 ,\n",
       "       185305.52035  , 171324.187785 , 174382.781551 , 117573.345062 ,\n",
       "        96651.9008938, 164360.35476  , 106874.85775  ,  50337.5850762,\n",
       "       116510.034278 ,  58124.0116238, 158201.375344 ,  78657.9213311,\n",
       "       159497.378007 , 130923.552835 , 184585.814046 , 174366.310813 ,\n",
       "        92871.3819578,  78258.7536877, 180331.545544 ,  84627.4873132,\n",
       "       142769.848962 , 170352.115251 ,  84461.8402159, 105013.399623 ,\n",
       "       141445.868178 ,  52584.4702885, 140888.537049 , 138835.649282 ,\n",
       "        97432.0591534, 113839.407232 , 126411.237065 , 151862.687138 ,\n",
       "        58912.7275905, 173917.252553 , 123665.399369 , 168167.589712 ,\n",
       "        91355.0233202, 155863.085856 ,  83533.7978753,  77790.0125567,\n",
       "       120381.443537 ,  92887.1863482, 138076.278183 , 142554.909258 ,\n",
       "       170748.224513 , 138978.538014 , 106210.987906 , 154487.76343  ,\n",
       "       139732.014471 , 110016.958529 ,  68918.7861289,  88075.8258932,\n",
       "       138978.538014 , 148089.367567 , 157529.979177 ,  58124.0116238,\n",
       "        93791.49648  , 112530.036737 ,  56789.1984454, 107310.358443 ,\n",
       "       146917.194341 , 151862.687138 , 167379.258166 , 117872.569163 ,\n",
       "       120785.873608 , 138881.456382 , 157266.344856 , 121943.891177 ,\n",
       "        87044.1494571, 104847.453479 ,  95236.8805954, 177746.331678 ,\n",
       "       180727.167908 , 109698.248033 , 164166.250382 , 166649.069696 ,\n",
       "       157602.807509 , 174366.310813 , 169072.28428  ,  51672.0956472,\n",
       "       175805.116852 , 103896.968901 ,  81843.4472268, 138744.607452 ,\n",
       "       144177.874884 , 161472.380097 , 169400.95578  , 120414.624213 ,\n",
       "       158655.653321 , 109304.223234 , 169233.292582 ,  60099.8765088,\n",
       "       157987.956256 , 157114.656868 , 173917.252553 , 155930.472362 ,\n",
       "       102835.067629 ,  85616.4662617, 140606.185172 , 165507.428882 ,\n",
       "       121211.122778 , 154258.480057 , 100575.29612  ,  82239.6404206,\n",
       "       177474.128839 , 101005.918753 ,  70487.2736283,  90175.1615083,\n",
       "        61274.3477425,  68905.8863292,  72979.1499011, 175756.593092 ,\n",
       "        89823.2276346,  95590.9010605,  92862.4973262,  99178.4797516,\n",
       "       171674.874389 ,  60328.22859  , 168788.240944 , 165417.890602 ,\n",
       "       165092.585016 , 102205.668492 , 181248.541899 ,  73854.2067819,\n",
       "        90531.2557803, 134796.747605 ,  64983.8261021,  71725.7227461,\n",
       "        60722.3302876, 184087.890312 , 175955.711357 , 158470.229382 ,\n",
       "       141047.460909 , 154200.626321 ,  58694.5330289,  90708.8629541,\n",
       "       152256.635044 , 168314.673055 ,  72550.9084059, 115607.298994 ,\n",
       "        80096.7530309, 149574.356604 , 116510.034278 , 130068.994668 ,\n",
       "       174351.540115 , 330397.282648 , 145001.053021 , 150461.615103 ,\n",
       "        86242.226152 ,  70237.2140008,  70304.993478 ,  68299.612831 ,\n",
       "       120414.624213 ,  89616.6770687, 166541.719439 , 124681.75838  ,\n",
       "        67264.151885 , 165591.907731 , 117573.345062 , 164744.896976 ,\n",
       "       168414.830151 , 145956.02257  , 141108.124132 , 108899.494173 ])"
      ]
     },
     "execution_count": 21,
     "metadata": {},
     "output_type": "execute_result"
    }
   ],
   "source": [
    "y_pred_rf = rf.predict(X_test)\n",
    "y_pred_rf"
   ]
  },
  {
   "cell_type": "code",
   "execution_count": 22,
   "id": "b3b1282f",
   "metadata": {},
   "outputs": [
    {
     "data": {
      "text/plain": [
       "0.9488547581195484"
      ]
     },
     "execution_count": 22,
     "metadata": {},
     "output_type": "execute_result"
    }
   ],
   "source": [
    "r2_score(y_test, y_pred_rf)"
   ]
  },
  {
   "cell_type": "markdown",
   "id": "46f2787c",
   "metadata": {},
   "source": [
    "## RANDOM FOREST MODEL -- 2"
   ]
  },
  {
   "cell_type": "code",
   "execution_count": 24,
   "id": "9009fa76",
   "metadata": {},
   "outputs": [
    {
     "name": "stderr",
     "output_type": "stream",
     "text": [
      "C:\\Users\\user\\anaconda3\\lib\\site-packages\\sklearn\\ensemble\\_forest.py:396: FutureWarning: Criterion 'mse' was deprecated in v1.0 and will be removed in version 1.2. Use `criterion='squared_error'` which is equivalent.\n",
      "  warn(\n"
     ]
    },
    {
     "data": {
      "text/plain": [
       "RandomForestRegressor(criterion='mse')"
      ]
     },
     "execution_count": 24,
     "metadata": {},
     "output_type": "execute_result"
    }
   ],
   "source": [
    "rf_1.fit(X_train, y_train)"
   ]
  },
  {
   "cell_type": "code",
   "execution_count": 25,
   "id": "fba78132",
   "metadata": {},
   "outputs": [
    {
     "data": {
      "text/plain": [
       "array([ 88908.6062034,  87650.5169331,  94155.6979768, 175370.000642 ,\n",
       "        83345.8195976, 110353.019676 , 111647.706219 ,  90713.6469855,\n",
       "       164312.924509 ,  53451.2941098,  66329.3093807, 150483.066359 ,\n",
       "       125991.686038 ,  58684.4267618, 176426.596769 ,  75379.6294553,\n",
       "       118197.029026 , 163495.974214 , 148485.55265  , 181563.296997 ,\n",
       "        97817.7157442,  84789.9820741, 180658.124076 ,  83345.8195976,\n",
       "       104238.161285 , 100499.6656817,  43665.0567363,  56950.0785912,\n",
       "        68231.2780641, 190361.773813 , 120762.722313 , 110912.65739  ,\n",
       "       101179.408252 , 137773.295191 ,  63383.3710234, 107841.138174 ,\n",
       "       185293.961788 , 171306.657728 , 174363.50874  , 117596.257155 ,\n",
       "        96615.3457146, 164376.569215 , 106803.951569 ,  50319.9288463,\n",
       "       116539.934474 ,  58118.8858755, 158197.146601 ,  78686.8561801,\n",
       "       159481.325867 , 130955.349564 , 184574.93037  , 174363.50874  ,\n",
       "        92853.9458708,  78222.0875018, 180347.255965 ,  84612.5030424,\n",
       "       142761.622137 , 170354.968584 ,  84492.4921903, 105007.09495  ,\n",
       "       141433.694525 ,  52602.6068948, 140878.217211 , 138846.430437 ,\n",
       "        97449.5721268, 113737.695667 , 126433.209438 , 151859.013684 ,\n",
       "        58899.4433592, 173930.417185 , 123662.640006 , 168163.984602 ,\n",
       "        91365.7105058, 155875.054471 ,  83571.3268949,  77765.77631  ,\n",
       "       120385.0401   ,  92904.5540916, 138081.976304 , 142567.407539 ,\n",
       "       170678.420356 , 138966.090987 , 106226.407871 , 154571.764615 ,\n",
       "       139732.800418 , 109985.708552 ,  68909.6281255,  88071.9901247,\n",
       "       138966.090987 , 148143.948239 , 157535.5577   ,  58103.6538604,\n",
       "        93794.9051025, 112509.516658 ,  56786.2511403, 107394.463435 ,\n",
       "       146916.143564 , 151859.013684 , 167370.894653 , 117858.533155 ,\n",
       "       120762.722313 , 138868.189233 , 157265.242821 , 122008.381635 ,\n",
       "        87044.7987188, 104854.014435 ,  95242.1088594, 177767.005531 ,\n",
       "       180720.316491 , 109696.377131 , 164280.478525 , 166673.100912 ,\n",
       "       157594.16208  , 174363.50874  , 169087.6359   ,  51691.4538894,\n",
       "       175816.760844 , 103903.837404 ,  81804.125715 , 138753.885057 ,\n",
       "       144183.11169  , 161481.213466 , 169400.409035 , 120426.515945 ,\n",
       "       158643.607812 , 109315.192345 , 169225.749191 ,  60069.7712811,\n",
       "       157982.044559 , 157121.106768 , 173930.417185 , 155928.985886 ,\n",
       "       102825.166393 ,  85633.7229475, 140599.66693  , 165532.246043 ,\n",
       "       121211.037348 , 154768.173086 , 100579.319833 ,  82232.1839772,\n",
       "       177487.293468 , 101002.903105 ,  70449.8129515,  90158.8958001,\n",
       "        61271.2466646,  68909.6281255,  72913.7772072, 175763.384708 ,\n",
       "        89818.5888326,  96434.7416525,  92846.4281056,  97665.6250721,\n",
       "       171662.939938 ,  60309.8698684, 168772.598864 , 165465.987203 ,\n",
       "       165122.339983 , 102214.929011 , 181235.889845 ,  73865.5603139,\n",
       "        90528.3426468, 134814.286208 ,  64979.8707332,  71717.282348 ,\n",
       "        60698.5639016, 184088.744606 , 175961.836628 , 158488.861476 ,\n",
       "       141051.048935 , 154200.481088 ,  58684.4267618,  90713.6469855,\n",
       "       152276.121428 , 168310.666428 ,  72548.9179069, 115582.678315 ,\n",
       "        80096.240456 , 149595.115882 , 116539.934474 , 129679.314684 ,\n",
       "       174348.857643 , 322026.965705 , 144967.650221 , 150442.111631 ,\n",
       "        86197.6577709,  70205.1780742,  70265.1920428,  68289.9251666,\n",
       "       120426.515945 ,  89629.2693237, 166560.889737 , 124690.121892 ,\n",
       "        67263.3403084, 166899.483604 , 117596.257155 , 164727.708641 ,\n",
       "       168424.560526 , 145948.547522 , 141093.53284  , 108870.918127 ])"
      ]
     },
     "execution_count": 25,
     "metadata": {},
     "output_type": "execute_result"
    }
   ],
   "source": [
    "y_pred_rf_1 = rf_1.predict(X_test)\n",
    "y_pred_rf_1"
   ]
  },
  {
   "cell_type": "code",
   "execution_count": 26,
   "id": "c9a229e5",
   "metadata": {},
   "outputs": [
    {
     "data": {
      "text/plain": [
       "0.9429242050002815"
      ]
     },
     "execution_count": 26,
     "metadata": {},
     "output_type": "execute_result"
    }
   ],
   "source": [
    "r2_score(y_test, y_pred_rf_1)"
   ]
  },
  {
   "cell_type": "markdown",
   "id": "cd2bfb59",
   "metadata": {},
   "source": [
    "## Decision Tree Regressor"
   ]
  },
  {
   "cell_type": "code",
   "execution_count": 28,
   "id": "9e5c240d",
   "metadata": {},
   "outputs": [
    {
     "data": {
      "text/plain": [
       "DecisionTreeRegressor()"
      ]
     },
     "execution_count": 28,
     "metadata": {},
     "output_type": "execute_result"
    }
   ],
   "source": [
    "dt.fit(X_train, y_train)"
   ]
  },
  {
   "cell_type": "code",
   "execution_count": 29,
   "id": "fb791304",
   "metadata": {},
   "outputs": [
    {
     "data": {
      "text/plain": [
       "array([ 88971.02073,  87716.921  ,  94066.01447, 175166.4572 ,\n",
       "        83444.60985, 110363.331  , 110352.25   ,  90808.60147,\n",
       "       164330.6254 ,  53395.76517,  66357.07385, 150475.728  ,\n",
       "       125981.4858 ,  58666.74293, 176432.517  ,  75270.75002,\n",
       "       118265.5261 , 163470.354  , 155518.6099 , 181579.6225 ,\n",
       "       101668.3534 ,  84808.91317, 180633.922  ,  83444.60985,\n",
       "       104151.7784 , 100435.6109 ,  35673.41   ,  56991.47755,\n",
       "        68160.48294, 192261.83   , 120790.8114 , 110963.8978 ,\n",
       "       101119.044  , 137719.4492 ,  63373.88839, 107910.6604 ,\n",
       "       185352.1732 , 171235.8626 , 174414.6808 , 117700.8395 ,\n",
       "        96581.04826, 164330.6254 , 107019.6345 ,  50428.81124,\n",
       "       116529.6061 ,  58179.79685, 158160.0789 ,  78406.85364,\n",
       "       159509.0049 , 131062.8109 , 184581.6024 , 174414.6808 ,\n",
       "        92920.40974,  78406.85364, 180257.1795 ,  84552.62576,\n",
       "       142712.7823 , 170343.1281 ,  84378.35032, 104996.6726 ,\n",
       "       141472.3512 ,  52731.98078, 140870.0758 , 138855.6568 ,\n",
       "        97446.44542, 113472.9515 , 126436.8231 , 151804.1511 ,\n",
       "        58963.18204, 173897.8345 , 123671.4819 , 168246.6971 ,\n",
       "        91441.63138, 155881.6838 ,  83632.55396,  77837.89559,\n",
       "       120345.7256 ,  92920.40974, 138079.1059 , 142575.2414 ,\n",
       "       170547.3037 , 139016.2635 , 106235.395  , 154539.592  ,\n",
       "       139555.3214 , 110023.323  ,  68872.96194,  88082.55771,\n",
       "       139016.2635 , 148158.0355 , 157493.7316 ,  58179.79685,\n",
       "        94066.01447, 112487.9536 ,  56775.34184, 107382.7084 ,\n",
       "       146925.293  , 151804.1511 , 167373.6113 , 117700.8395 ,\n",
       "       120790.8114 , 138855.6568 , 157325.4362 , 121927.8732 ,\n",
       "        87045.44798, 104862.5488 ,  95260.31381, 177717.3712 ,\n",
       "       180783.423  , 109663.6663 , 164330.6254 , 166598.769  ,\n",
       "       157591.1208 , 174414.6808 , 169169.3318 ,  51671.80519,\n",
       "       175826.8244 , 103903.1796 ,  81824.87341, 138736.9103 ,\n",
       "       144184.7263 , 161467.0408 , 169403.4076 , 120345.7256 ,\n",
       "       158565.8673 , 109333.0556 , 169169.3318 ,  60065.21791,\n",
       "       157979.8234 , 156935.8793 , 173897.8345 , 155881.6838 ,\n",
       "       102833.6068 ,  85529.93509, 140589.8682 , 165530.0505 ,\n",
       "       121248.7116 , 155518.6099 , 100589.3834 ,  82155.48418,\n",
       "       177442.2894 , 100992.6089 ,  70555.91594,  90108.93684,\n",
       "        61306.50327,  68872.96194,  72870.19126, 175705.515  ,\n",
       "        89915.86699,  96479.51   ,  92903.32391, 101028.4891 ,\n",
       "       171651.9025 ,  60368.49134, 168802.8408 , 165530.0505 ,\n",
       "       165119.1364 , 102274.046  , 181243.886  ,  73850.06347,\n",
       "        90544.62544, 134723.4494 ,  64966.2875 ,  71717.75221,\n",
       "        60869.96038, 183945.1553 , 176018.1857 , 158565.8673 ,\n",
       "       141073.3972 , 154190.1869 ,  58666.74293,  90808.60147,\n",
       "       152268.8856 , 168246.6971 ,  72607.06952, 115980.2967 ,\n",
       "        80106.89347, 149669.2769 , 116529.6061 , 128995.4258 ,\n",
       "       174414.6808 , 333962.19   , 145073.1894 , 150475.728  ,\n",
       "        86313.32028,  70232.13951,  70244.95388,  68160.48294,\n",
       "       120345.7256 ,  89583.54765, 166598.769  , 124695.7773 ,\n",
       "        67199.40514, 166187.94   , 117700.8395 , 164713.348  ,\n",
       "       168459.4156 , 145965.9238 , 141073.3972 , 108896.5127 ])"
      ]
     },
     "execution_count": 29,
     "metadata": {},
     "output_type": "execute_result"
    }
   ],
   "source": [
    "y_pred_dt = dt.predict(X_test)\n",
    "y_pred_dt"
   ]
  },
  {
   "cell_type": "code",
   "execution_count": 30,
   "id": "51346963",
   "metadata": {},
   "outputs": [
    {
     "data": {
      "text/plain": [
       "0.9495754937029737"
      ]
     },
     "execution_count": 30,
     "metadata": {},
     "output_type": "execute_result"
    }
   ],
   "source": [
    "r2_score(y_test, y_pred_dt)"
   ]
  },
  {
   "cell_type": "markdown",
   "id": "3ea4c782",
   "metadata": {},
   "source": [
    "## SVM Regressor"
   ]
  },
  {
   "cell_type": "code",
   "execution_count": 32,
   "id": "537dc4bf",
   "metadata": {},
   "outputs": [
    {
     "data": {
      "text/plain": [
       "SVR()"
      ]
     },
     "execution_count": 32,
     "metadata": {},
     "output_type": "execute_result"
    }
   ],
   "source": [
    "svr.fit(X_train, y_train)"
   ]
  },
  {
   "cell_type": "code",
   "execution_count": 33,
   "id": "688bef71",
   "metadata": {},
   "outputs": [
    {
     "data": {
      "text/plain": [
       "array([116199.86885936, 116193.29344685, 116228.07637654, 116684.78279097,\n",
       "       116175.28272957, 116349.52566748, 116632.22945625, 116208.55289159,\n",
       "       116686.51694373, 116165.18578443, 116146.69591662, 116649.31177857,\n",
       "       116484.74200711, 116154.23036777, 116683.47963999, 116153.33272002,\n",
       "       116417.41764684, 116685.6930236 , 116563.32755376, 116673.53331227,\n",
       "       116187.93984849, 116181.29189213, 116675.53621127, 116175.41195668,\n",
       "       116298.58568689, 116270.28270975, 116271.50982463, 116157.43885302,\n",
       "       116146.60252013, 116566.36911803, 116439.5196366 , 116353.36929757,\n",
       "       116277.22789968, 116577.6172755 , 116148.33868862, 116329.4284923 ,\n",
       "       116663.35363958, 116688.512489  , 116686.01271369, 116412.37598202,\n",
       "       116244.06752253, 116686.68067749, 116320.17630919, 116173.289718  ,\n",
       "       116402.26351886, 116155.45693979, 116675.97453669, 116160.68220423,\n",
       "       116679.00146882, 116526.67535789, 116665.99756175, 116686.05094768,\n",
       "       116221.24772887, 116159.72020318, 116676.45434661, 116179.9819769 ,\n",
       "       116609.62532703, 116688.87516686, 116178.88727646, 116306.42030592,\n",
       "       116602.02829843, 116167.41355137, 116597.62354281, 116584.69660996,\n",
       "       116249.80355686, 116376.83580244, 116489.26990504, 116655.07939562,\n",
       "       116153.85687041, 116686.39157366, 116465.2031195 , 116688.91898836,\n",
       "       116212.27260621, 116669.28804718, 116176.01142682, 116158.60184433,\n",
       "       116436.34025554, 116223.19871582, 116578.86949733, 116608.56188968,\n",
       "       116688.640043  , 116586.09988102, 116314.88189484, 116665.37514264,\n",
       "       116590.39218825, 116346.16658046, 116146.78953929, 116195.27242096,\n",
       "       116586.43940278, 116638.91523836, 116674.2380601 , 116155.63664132,\n",
       "       116225.13661786, 116368.73876886, 116158.08669171, 116323.33386334,\n",
       "       116634.24818386, 116655.11369015, 116688.76139154, 116414.10890986,\n",
       "       116439.38504296, 116584.93971309, 116673.19903584, 116449.81090007,\n",
       "       116190.36300358, 116303.80353167, 116235.10548682, 116680.97620902,\n",
       "       116675.38482305, 116343.30172729, 116686.47306586, 116688.46773672,\n",
       "       116674.46257595, 116686.06023774, 116689.03132115, 116169.86584047,\n",
       "       116684.28693598, 116296.61588953, 116170.37876241, 116582.76087731,\n",
       "       116617.67198303, 116682.75355   , 116689.01123211, 116436.66206854,\n",
       "       116677.09291759, 116340.66155888, 116689.02426261, 116152.01241997,\n",
       "       116675.32577221, 116673.04465037, 116686.34665182, 116669.66479334,\n",
       "       116288.66201533, 116184.02269976, 116596.09026988, 116687.71957322,\n",
       "       116443.0318471 , 116665.49303216, 116271.38673036, 116171.28107613,\n",
       "       116681.72654921, 116274.32604781, 116147.5432335 , 116205.77610006,\n",
       "       116150.43583165, 116146.76963495, 116149.8343801 , 116684.31933002,\n",
       "       116203.89202475, 116337.1127624 , 116220.13180142, 116170.56116361,\n",
       "       116688.2480669 , 116151.8230082 , 116689.02818658, 116687.59037075,\n",
       "       116687.4728795 , 116283.65665826, 116674.61116431, 116151.05617698,\n",
       "       116207.45680833, 116555.71515281, 116147.20966653, 116148.56001583,\n",
       "       116151.26089651, 116667.58433482, 116683.97281243, 116676.72444748,\n",
       "       116598.98807811, 116664.25463868, 116154.38243648, 116208.69054821,\n",
       "       116658.01154019, 116688.96111068, 116149.28672976, 116398.34110738,\n",
       "       116164.92258133, 116645.24004898, 116403.22974175, 116511.96604263,\n",
       "       116686.13130698, 116516.15109625, 116623.91547275, 116648.86940887,\n",
       "       116186.81102828, 116147.32110685, 116147.39827292, 116146.62615767,\n",
       "       116436.95392021, 116202.81838743, 116688.4163379 , 116472.83891978,\n",
       "       116146.55062668, 116669.03658985, 116412.30847004, 116687.11451177,\n",
       "       116688.99901374, 116627.90405834, 116599.22188158, 116337.08836599])"
      ]
     },
     "execution_count": 33,
     "metadata": {},
     "output_type": "execute_result"
    }
   ],
   "source": [
    "y_pred_svr = svr.predict(X_test)\n",
    "y_pred_svr"
   ]
  },
  {
   "cell_type": "code",
   "execution_count": 34,
   "id": "baedcaaf",
   "metadata": {},
   "outputs": [
    {
     "data": {
      "text/plain": [
       "-0.015508120714520679"
      ]
     },
     "execution_count": 34,
     "metadata": {},
     "output_type": "execute_result"
    }
   ],
   "source": [
    "r2_score(y_test, y_pred_svr)"
   ]
  }
 ],
 "metadata": {
  "kernelspec": {
   "display_name": "Python 3",
   "language": "python",
   "name": "python3"
  },
  "language_info": {
   "codemirror_mode": {
    "name": "ipython",
    "version": 3
   },
   "file_extension": ".py",
   "mimetype": "text/x-python",
   "name": "python",
   "nbconvert_exporter": "python",
   "pygments_lexer": "ipython3",
   "version": "3.9.12"
  }
 },
 "nbformat": 4,
 "nbformat_minor": 5
}
