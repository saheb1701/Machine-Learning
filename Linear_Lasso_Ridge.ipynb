{
 "cells": [
  {
   "cell_type": "code",
   "execution_count": 19,
   "id": "6130c021",
   "metadata": {},
   "outputs": [],
   "source": [
    "import numpy as np\n",
    "import pandas as pd\n",
    "import matplotlib.pyplot as plt\n",
    "import seaborn as sns\n",
    "from sklearn.model_selection import train_test_split\n",
    "from sklearn.preprocessing import StandardScaler\n",
    "from sklearn.linear_model import LinearRegression , Lasso  , Ridge\n",
    "\n",
    "%matplotlib inline"
   ]
  },
  {
   "cell_type": "code",
   "execution_count": 2,
   "id": "c695bece",
   "metadata": {},
   "outputs": [],
   "source": [
    "df_mob = pd.read_csv(\"Cellphone.csv\")"
   ]
  },
  {
   "cell_type": "code",
   "execution_count": 3,
   "id": "4ec2a823",
   "metadata": {},
   "outputs": [
    {
     "data": {
      "text/html": [
       "<div>\n",
       "<style scoped>\n",
       "    .dataframe tbody tr th:only-of-type {\n",
       "        vertical-align: middle;\n",
       "    }\n",
       "\n",
       "    .dataframe tbody tr th {\n",
       "        vertical-align: top;\n",
       "    }\n",
       "\n",
       "    .dataframe thead th {\n",
       "        text-align: right;\n",
       "    }\n",
       "</style>\n",
       "<table border=\"1\" class=\"dataframe\">\n",
       "  <thead>\n",
       "    <tr style=\"text-align: right;\">\n",
       "      <th></th>\n",
       "      <th>Product_id</th>\n",
       "      <th>Price</th>\n",
       "      <th>Sale</th>\n",
       "      <th>weight</th>\n",
       "      <th>resoloution</th>\n",
       "      <th>cpucore</th>\n",
       "      <th>internal mem</th>\n",
       "      <th>ram</th>\n",
       "      <th>battery</th>\n",
       "    </tr>\n",
       "  </thead>\n",
       "  <tbody>\n",
       "    <tr>\n",
       "      <th>0</th>\n",
       "      <td>203</td>\n",
       "      <td>2357</td>\n",
       "      <td>10</td>\n",
       "      <td>135.0</td>\n",
       "      <td>5.2</td>\n",
       "      <td>8</td>\n",
       "      <td>16.0</td>\n",
       "      <td>3.000</td>\n",
       "      <td>2610</td>\n",
       "    </tr>\n",
       "    <tr>\n",
       "      <th>1</th>\n",
       "      <td>880</td>\n",
       "      <td>1749</td>\n",
       "      <td>10</td>\n",
       "      <td>125.0</td>\n",
       "      <td>4.0</td>\n",
       "      <td>2</td>\n",
       "      <td>4.0</td>\n",
       "      <td>1.000</td>\n",
       "      <td>1700</td>\n",
       "    </tr>\n",
       "    <tr>\n",
       "      <th>2</th>\n",
       "      <td>40</td>\n",
       "      <td>1916</td>\n",
       "      <td>10</td>\n",
       "      <td>110.0</td>\n",
       "      <td>4.7</td>\n",
       "      <td>4</td>\n",
       "      <td>8.0</td>\n",
       "      <td>1.500</td>\n",
       "      <td>2000</td>\n",
       "    </tr>\n",
       "    <tr>\n",
       "      <th>3</th>\n",
       "      <td>99</td>\n",
       "      <td>1315</td>\n",
       "      <td>11</td>\n",
       "      <td>118.5</td>\n",
       "      <td>4.0</td>\n",
       "      <td>2</td>\n",
       "      <td>4.0</td>\n",
       "      <td>0.512</td>\n",
       "      <td>1400</td>\n",
       "    </tr>\n",
       "    <tr>\n",
       "      <th>4</th>\n",
       "      <td>880</td>\n",
       "      <td>1749</td>\n",
       "      <td>11</td>\n",
       "      <td>125.0</td>\n",
       "      <td>4.0</td>\n",
       "      <td>2</td>\n",
       "      <td>4.0</td>\n",
       "      <td>1.000</td>\n",
       "      <td>1700</td>\n",
       "    </tr>\n",
       "  </tbody>\n",
       "</table>\n",
       "</div>"
      ],
      "text/plain": [
       "   Product_id  Price  Sale  weight  resoloution  cpucore  internal mem    ram  \\\n",
       "0         203   2357    10   135.0          5.2        8          16.0  3.000   \n",
       "1         880   1749    10   125.0          4.0        2           4.0  1.000   \n",
       "2          40   1916    10   110.0          4.7        4           8.0  1.500   \n",
       "3          99   1315    11   118.5          4.0        2           4.0  0.512   \n",
       "4         880   1749    11   125.0          4.0        2           4.0  1.000   \n",
       "\n",
       "   battery  \n",
       "0     2610  \n",
       "1     1700  \n",
       "2     2000  \n",
       "3     1400  \n",
       "4     1700  "
      ]
     },
     "execution_count": 3,
     "metadata": {},
     "output_type": "execute_result"
    }
   ],
   "source": [
    "df_mob.head()"
   ]
  },
  {
   "cell_type": "code",
   "execution_count": 4,
   "id": "85f66e85",
   "metadata": {},
   "outputs": [
    {
     "data": {
      "text/html": [
       "<div>\n",
       "<style scoped>\n",
       "    .dataframe tbody tr th:only-of-type {\n",
       "        vertical-align: middle;\n",
       "    }\n",
       "\n",
       "    .dataframe tbody tr th {\n",
       "        vertical-align: top;\n",
       "    }\n",
       "\n",
       "    .dataframe thead th {\n",
       "        text-align: right;\n",
       "    }\n",
       "</style>\n",
       "<table border=\"1\" class=\"dataframe\">\n",
       "  <thead>\n",
       "    <tr style=\"text-align: right;\">\n",
       "      <th></th>\n",
       "      <th>Product_id</th>\n",
       "      <th>Price</th>\n",
       "      <th>Sale</th>\n",
       "      <th>weight</th>\n",
       "      <th>resoloution</th>\n",
       "      <th>cpucore</th>\n",
       "      <th>internal mem</th>\n",
       "      <th>ram</th>\n",
       "      <th>battery</th>\n",
       "    </tr>\n",
       "  </thead>\n",
       "  <tbody>\n",
       "    <tr>\n",
       "      <th>156</th>\n",
       "      <td>1206</td>\n",
       "      <td>3551</td>\n",
       "      <td>4638</td>\n",
       "      <td>178.0</td>\n",
       "      <td>5.46</td>\n",
       "      <td>4</td>\n",
       "      <td>128.0</td>\n",
       "      <td>6.0</td>\n",
       "      <td>4080</td>\n",
       "    </tr>\n",
       "    <tr>\n",
       "      <th>157</th>\n",
       "      <td>1296</td>\n",
       "      <td>3211</td>\n",
       "      <td>8016</td>\n",
       "      <td>170.0</td>\n",
       "      <td>5.50</td>\n",
       "      <td>4</td>\n",
       "      <td>128.0</td>\n",
       "      <td>6.0</td>\n",
       "      <td>3400</td>\n",
       "    </tr>\n",
       "    <tr>\n",
       "      <th>158</th>\n",
       "      <td>856</td>\n",
       "      <td>3260</td>\n",
       "      <td>8809</td>\n",
       "      <td>150.0</td>\n",
       "      <td>5.50</td>\n",
       "      <td>8</td>\n",
       "      <td>64.0</td>\n",
       "      <td>4.0</td>\n",
       "      <td>3000</td>\n",
       "    </tr>\n",
       "    <tr>\n",
       "      <th>159</th>\n",
       "      <td>1296</td>\n",
       "      <td>3211</td>\n",
       "      <td>8946</td>\n",
       "      <td>170.0</td>\n",
       "      <td>5.50</td>\n",
       "      <td>4</td>\n",
       "      <td>128.0</td>\n",
       "      <td>6.0</td>\n",
       "      <td>3400</td>\n",
       "    </tr>\n",
       "    <tr>\n",
       "      <th>160</th>\n",
       "      <td>1131</td>\n",
       "      <td>2536</td>\n",
       "      <td>9807</td>\n",
       "      <td>202.0</td>\n",
       "      <td>6.00</td>\n",
       "      <td>8</td>\n",
       "      <td>16.0</td>\n",
       "      <td>3.0</td>\n",
       "      <td>2700</td>\n",
       "    </tr>\n",
       "  </tbody>\n",
       "</table>\n",
       "</div>"
      ],
      "text/plain": [
       "     Product_id  Price  Sale  weight  resoloution  cpucore  internal mem  ram  \\\n",
       "156        1206   3551  4638   178.0         5.46        4         128.0  6.0   \n",
       "157        1296   3211  8016   170.0         5.50        4         128.0  6.0   \n",
       "158         856   3260  8809   150.0         5.50        8          64.0  4.0   \n",
       "159        1296   3211  8946   170.0         5.50        4         128.0  6.0   \n",
       "160        1131   2536  9807   202.0         6.00        8          16.0  3.0   \n",
       "\n",
       "     battery  \n",
       "156     4080  \n",
       "157     3400  \n",
       "158     3000  \n",
       "159     3400  \n",
       "160     2700  "
      ]
     },
     "execution_count": 4,
     "metadata": {},
     "output_type": "execute_result"
    }
   ],
   "source": [
    "df_mob.tail()"
   ]
  },
  {
   "cell_type": "code",
   "execution_count": 5,
   "id": "ed230231",
   "metadata": {},
   "outputs": [
    {
     "data": {
      "text/plain": [
       "Product_id      0\n",
       "Price           0\n",
       "Sale            0\n",
       "weight          0\n",
       "resoloution     0\n",
       "cpucore         0\n",
       "internal mem    0\n",
       "ram             0\n",
       "battery         0\n",
       "dtype: int64"
      ]
     },
     "execution_count": 5,
     "metadata": {},
     "output_type": "execute_result"
    }
   ],
   "source": [
    "df_mob.isna().sum()"
   ]
  },
  {
   "cell_type": "code",
   "execution_count": 12,
   "id": "6cdb667f",
   "metadata": {},
   "outputs": [],
   "source": [
    "df_mob = df_mob.drop(\"Product_id\",axis=1)\n"
   ]
  },
  {
   "cell_type": "code",
   "execution_count": 13,
   "id": "ff2947a0",
   "metadata": {},
   "outputs": [
    {
     "data": {
      "text/html": [
       "<div>\n",
       "<style scoped>\n",
       "    .dataframe tbody tr th:only-of-type {\n",
       "        vertical-align: middle;\n",
       "    }\n",
       "\n",
       "    .dataframe tbody tr th {\n",
       "        vertical-align: top;\n",
       "    }\n",
       "\n",
       "    .dataframe thead th {\n",
       "        text-align: right;\n",
       "    }\n",
       "</style>\n",
       "<table border=\"1\" class=\"dataframe\">\n",
       "  <thead>\n",
       "    <tr style=\"text-align: right;\">\n",
       "      <th></th>\n",
       "      <th>Price</th>\n",
       "      <th>Sale</th>\n",
       "      <th>weight</th>\n",
       "      <th>resoloution</th>\n",
       "      <th>cpucore</th>\n",
       "      <th>internal mem</th>\n",
       "      <th>ram</th>\n",
       "      <th>battery</th>\n",
       "    </tr>\n",
       "  </thead>\n",
       "  <tbody>\n",
       "    <tr>\n",
       "      <th>0</th>\n",
       "      <td>2357</td>\n",
       "      <td>10</td>\n",
       "      <td>135.0</td>\n",
       "      <td>5.20</td>\n",
       "      <td>8</td>\n",
       "      <td>16.0</td>\n",
       "      <td>3.000</td>\n",
       "      <td>2610</td>\n",
       "    </tr>\n",
       "    <tr>\n",
       "      <th>1</th>\n",
       "      <td>1749</td>\n",
       "      <td>10</td>\n",
       "      <td>125.0</td>\n",
       "      <td>4.00</td>\n",
       "      <td>2</td>\n",
       "      <td>4.0</td>\n",
       "      <td>1.000</td>\n",
       "      <td>1700</td>\n",
       "    </tr>\n",
       "    <tr>\n",
       "      <th>2</th>\n",
       "      <td>1916</td>\n",
       "      <td>10</td>\n",
       "      <td>110.0</td>\n",
       "      <td>4.70</td>\n",
       "      <td>4</td>\n",
       "      <td>8.0</td>\n",
       "      <td>1.500</td>\n",
       "      <td>2000</td>\n",
       "    </tr>\n",
       "    <tr>\n",
       "      <th>3</th>\n",
       "      <td>1315</td>\n",
       "      <td>11</td>\n",
       "      <td>118.5</td>\n",
       "      <td>4.00</td>\n",
       "      <td>2</td>\n",
       "      <td>4.0</td>\n",
       "      <td>0.512</td>\n",
       "      <td>1400</td>\n",
       "    </tr>\n",
       "    <tr>\n",
       "      <th>4</th>\n",
       "      <td>1749</td>\n",
       "      <td>11</td>\n",
       "      <td>125.0</td>\n",
       "      <td>4.00</td>\n",
       "      <td>2</td>\n",
       "      <td>4.0</td>\n",
       "      <td>1.000</td>\n",
       "      <td>1700</td>\n",
       "    </tr>\n",
       "    <tr>\n",
       "      <th>...</th>\n",
       "      <td>...</td>\n",
       "      <td>...</td>\n",
       "      <td>...</td>\n",
       "      <td>...</td>\n",
       "      <td>...</td>\n",
       "      <td>...</td>\n",
       "      <td>...</td>\n",
       "      <td>...</td>\n",
       "    </tr>\n",
       "    <tr>\n",
       "      <th>156</th>\n",
       "      <td>3551</td>\n",
       "      <td>4638</td>\n",
       "      <td>178.0</td>\n",
       "      <td>5.46</td>\n",
       "      <td>4</td>\n",
       "      <td>128.0</td>\n",
       "      <td>6.000</td>\n",
       "      <td>4080</td>\n",
       "    </tr>\n",
       "    <tr>\n",
       "      <th>157</th>\n",
       "      <td>3211</td>\n",
       "      <td>8016</td>\n",
       "      <td>170.0</td>\n",
       "      <td>5.50</td>\n",
       "      <td>4</td>\n",
       "      <td>128.0</td>\n",
       "      <td>6.000</td>\n",
       "      <td>3400</td>\n",
       "    </tr>\n",
       "    <tr>\n",
       "      <th>158</th>\n",
       "      <td>3260</td>\n",
       "      <td>8809</td>\n",
       "      <td>150.0</td>\n",
       "      <td>5.50</td>\n",
       "      <td>8</td>\n",
       "      <td>64.0</td>\n",
       "      <td>4.000</td>\n",
       "      <td>3000</td>\n",
       "    </tr>\n",
       "    <tr>\n",
       "      <th>159</th>\n",
       "      <td>3211</td>\n",
       "      <td>8946</td>\n",
       "      <td>170.0</td>\n",
       "      <td>5.50</td>\n",
       "      <td>4</td>\n",
       "      <td>128.0</td>\n",
       "      <td>6.000</td>\n",
       "      <td>3400</td>\n",
       "    </tr>\n",
       "    <tr>\n",
       "      <th>160</th>\n",
       "      <td>2536</td>\n",
       "      <td>9807</td>\n",
       "      <td>202.0</td>\n",
       "      <td>6.00</td>\n",
       "      <td>8</td>\n",
       "      <td>16.0</td>\n",
       "      <td>3.000</td>\n",
       "      <td>2700</td>\n",
       "    </tr>\n",
       "  </tbody>\n",
       "</table>\n",
       "<p>161 rows × 8 columns</p>\n",
       "</div>"
      ],
      "text/plain": [
       "     Price  Sale  weight  resoloution  cpucore  internal mem    ram  battery\n",
       "0     2357    10   135.0         5.20        8          16.0  3.000     2610\n",
       "1     1749    10   125.0         4.00        2           4.0  1.000     1700\n",
       "2     1916    10   110.0         4.70        4           8.0  1.500     2000\n",
       "3     1315    11   118.5         4.00        2           4.0  0.512     1400\n",
       "4     1749    11   125.0         4.00        2           4.0  1.000     1700\n",
       "..     ...   ...     ...          ...      ...           ...    ...      ...\n",
       "156   3551  4638   178.0         5.46        4         128.0  6.000     4080\n",
       "157   3211  8016   170.0         5.50        4         128.0  6.000     3400\n",
       "158   3260  8809   150.0         5.50        8          64.0  4.000     3000\n",
       "159   3211  8946   170.0         5.50        4         128.0  6.000     3400\n",
       "160   2536  9807   202.0         6.00        8          16.0  3.000     2700\n",
       "\n",
       "[161 rows x 8 columns]"
      ]
     },
     "execution_count": 13,
     "metadata": {},
     "output_type": "execute_result"
    }
   ],
   "source": [
    "df_mob"
   ]
  },
  {
   "cell_type": "code",
   "execution_count": 15,
   "id": "8dd368f2",
   "metadata": {},
   "outputs": [
    {
     "data": {
      "text/html": [
       "<div>\n",
       "<style scoped>\n",
       "    .dataframe tbody tr th:only-of-type {\n",
       "        vertical-align: middle;\n",
       "    }\n",
       "\n",
       "    .dataframe tbody tr th {\n",
       "        vertical-align: top;\n",
       "    }\n",
       "\n",
       "    .dataframe thead th {\n",
       "        text-align: right;\n",
       "    }\n",
       "</style>\n",
       "<table border=\"1\" class=\"dataframe\">\n",
       "  <thead>\n",
       "    <tr style=\"text-align: right;\">\n",
       "      <th></th>\n",
       "      <th>Sale</th>\n",
       "      <th>weight</th>\n",
       "      <th>resoloution</th>\n",
       "      <th>cpucore</th>\n",
       "      <th>internal mem</th>\n",
       "      <th>ram</th>\n",
       "      <th>battery</th>\n",
       "    </tr>\n",
       "  </thead>\n",
       "  <tbody>\n",
       "    <tr>\n",
       "      <th>0</th>\n",
       "      <td>10</td>\n",
       "      <td>135.0</td>\n",
       "      <td>5.20</td>\n",
       "      <td>8</td>\n",
       "      <td>16.0</td>\n",
       "      <td>3.000</td>\n",
       "      <td>2610</td>\n",
       "    </tr>\n",
       "    <tr>\n",
       "      <th>1</th>\n",
       "      <td>10</td>\n",
       "      <td>125.0</td>\n",
       "      <td>4.00</td>\n",
       "      <td>2</td>\n",
       "      <td>4.0</td>\n",
       "      <td>1.000</td>\n",
       "      <td>1700</td>\n",
       "    </tr>\n",
       "    <tr>\n",
       "      <th>2</th>\n",
       "      <td>10</td>\n",
       "      <td>110.0</td>\n",
       "      <td>4.70</td>\n",
       "      <td>4</td>\n",
       "      <td>8.0</td>\n",
       "      <td>1.500</td>\n",
       "      <td>2000</td>\n",
       "    </tr>\n",
       "    <tr>\n",
       "      <th>3</th>\n",
       "      <td>11</td>\n",
       "      <td>118.5</td>\n",
       "      <td>4.00</td>\n",
       "      <td>2</td>\n",
       "      <td>4.0</td>\n",
       "      <td>0.512</td>\n",
       "      <td>1400</td>\n",
       "    </tr>\n",
       "    <tr>\n",
       "      <th>4</th>\n",
       "      <td>11</td>\n",
       "      <td>125.0</td>\n",
       "      <td>4.00</td>\n",
       "      <td>2</td>\n",
       "      <td>4.0</td>\n",
       "      <td>1.000</td>\n",
       "      <td>1700</td>\n",
       "    </tr>\n",
       "    <tr>\n",
       "      <th>...</th>\n",
       "      <td>...</td>\n",
       "      <td>...</td>\n",
       "      <td>...</td>\n",
       "      <td>...</td>\n",
       "      <td>...</td>\n",
       "      <td>...</td>\n",
       "      <td>...</td>\n",
       "    </tr>\n",
       "    <tr>\n",
       "      <th>156</th>\n",
       "      <td>4638</td>\n",
       "      <td>178.0</td>\n",
       "      <td>5.46</td>\n",
       "      <td>4</td>\n",
       "      <td>128.0</td>\n",
       "      <td>6.000</td>\n",
       "      <td>4080</td>\n",
       "    </tr>\n",
       "    <tr>\n",
       "      <th>157</th>\n",
       "      <td>8016</td>\n",
       "      <td>170.0</td>\n",
       "      <td>5.50</td>\n",
       "      <td>4</td>\n",
       "      <td>128.0</td>\n",
       "      <td>6.000</td>\n",
       "      <td>3400</td>\n",
       "    </tr>\n",
       "    <tr>\n",
       "      <th>158</th>\n",
       "      <td>8809</td>\n",
       "      <td>150.0</td>\n",
       "      <td>5.50</td>\n",
       "      <td>8</td>\n",
       "      <td>64.0</td>\n",
       "      <td>4.000</td>\n",
       "      <td>3000</td>\n",
       "    </tr>\n",
       "    <tr>\n",
       "      <th>159</th>\n",
       "      <td>8946</td>\n",
       "      <td>170.0</td>\n",
       "      <td>5.50</td>\n",
       "      <td>4</td>\n",
       "      <td>128.0</td>\n",
       "      <td>6.000</td>\n",
       "      <td>3400</td>\n",
       "    </tr>\n",
       "    <tr>\n",
       "      <th>160</th>\n",
       "      <td>9807</td>\n",
       "      <td>202.0</td>\n",
       "      <td>6.00</td>\n",
       "      <td>8</td>\n",
       "      <td>16.0</td>\n",
       "      <td>3.000</td>\n",
       "      <td>2700</td>\n",
       "    </tr>\n",
       "  </tbody>\n",
       "</table>\n",
       "<p>161 rows × 7 columns</p>\n",
       "</div>"
      ],
      "text/plain": [
       "     Sale  weight  resoloution  cpucore  internal mem    ram  battery\n",
       "0      10   135.0         5.20        8          16.0  3.000     2610\n",
       "1      10   125.0         4.00        2           4.0  1.000     1700\n",
       "2      10   110.0         4.70        4           8.0  1.500     2000\n",
       "3      11   118.5         4.00        2           4.0  0.512     1400\n",
       "4      11   125.0         4.00        2           4.0  1.000     1700\n",
       "..    ...     ...          ...      ...           ...    ...      ...\n",
       "156  4638   178.0         5.46        4         128.0  6.000     4080\n",
       "157  8016   170.0         5.50        4         128.0  6.000     3400\n",
       "158  8809   150.0         5.50        8          64.0  4.000     3000\n",
       "159  8946   170.0         5.50        4         128.0  6.000     3400\n",
       "160  9807   202.0         6.00        8          16.0  3.000     2700\n",
       "\n",
       "[161 rows x 7 columns]"
      ]
     },
     "execution_count": 15,
     "metadata": {},
     "output_type": "execute_result"
    }
   ],
   "source": [
    "X = df_mob.drop('Price', axis=1)\n",
    "X"
   ]
  },
  {
   "cell_type": "code",
   "execution_count": 17,
   "id": "2b26fb56",
   "metadata": {},
   "outputs": [
    {
     "data": {
      "text/plain": [
       "0      2357\n",
       "1      1749\n",
       "2      1916\n",
       "3      1315\n",
       "4      1749\n",
       "       ... \n",
       "156    3551\n",
       "157    3211\n",
       "158    3260\n",
       "159    3211\n",
       "160    2536\n",
       "Name: Price, Length: 161, dtype: int64"
      ]
     },
     "execution_count": 17,
     "metadata": {},
     "output_type": "execute_result"
    }
   ],
   "source": [
    "y = df_mob['Price']\n",
    "y"
   ]
  },
  {
   "cell_type": "markdown",
   "id": "64b00297",
   "metadata": {},
   "source": [
    "## Splitting Data"
   ]
  },
  {
   "cell_type": "code",
   "execution_count": 20,
   "id": "4f4e7c8c",
   "metadata": {},
   "outputs": [],
   "source": [
    "X_train, X_test, y_train, y_test = train_test_split(X, y, test_size=0.3)"
   ]
  },
  {
   "cell_type": "code",
   "execution_count": 21,
   "id": "c3f94e47",
   "metadata": {},
   "outputs": [
    {
     "name": "stdout",
     "output_type": "stream",
     "text": [
      "Shape of X_train =  (112, 7)\n",
      "Shape of y_train =  (112,)\n",
      "Shape of X_test =  (49, 7)\n",
      "Shape of y_test =  (49,)\n"
     ]
    }
   ],
   "source": [
    "print('Shape of X_train = ', X_train.shape)\n",
    "print('Shape of y_train = ', y_train.shape)\n",
    "print('Shape of X_test = ', X_test.shape)\n",
    "print('Shape of y_test = ', y_test.shape)"
   ]
  },
  {
   "cell_type": "markdown",
   "id": "c891f847",
   "metadata": {},
   "source": [
    "## Scaling Price"
   ]
  },
  {
   "cell_type": "code",
   "execution_count": 22,
   "id": "2776c546",
   "metadata": {},
   "outputs": [],
   "source": [
    "sc = StandardScaler()\n",
    "sc.fit(X_train)\n",
    "X_train = sc.transform(X_train)\n",
    "X_test = sc.transform(X_test)"
   ]
  },
  {
   "cell_type": "markdown",
   "id": "09992937",
   "metadata": {},
   "source": [
    "## Linear Model"
   ]
  },
  {
   "cell_type": "code",
   "execution_count": 23,
   "id": "29dd36b9",
   "metadata": {},
   "outputs": [
    {
     "data": {
      "text/plain": [
       "LinearRegression()"
      ]
     },
     "execution_count": 23,
     "metadata": {},
     "output_type": "execute_result"
    }
   ],
   "source": [
    "lr = LinearRegression()\n",
    "lr.fit(X_train, y_train)"
   ]
  },
  {
   "cell_type": "code",
   "execution_count": 24,
   "id": "0a9050c1",
   "metadata": {},
   "outputs": [
    {
     "data": {
      "text/plain": [
       "array([ -43.24730536, -354.54072917,  231.55434863,  193.14973528,\n",
       "        149.2279405 ,  317.08340622,  187.00264443])"
      ]
     },
     "execution_count": 24,
     "metadata": {},
     "output_type": "execute_result"
    }
   ],
   "source": [
    "lr.coef_"
   ]
  },
  {
   "cell_type": "code",
   "execution_count": 25,
   "id": "3e73e4e5",
   "metadata": {},
   "outputs": [
    {
     "data": {
      "text/plain": [
       "2189.2142857142862"
      ]
     },
     "execution_count": 25,
     "metadata": {},
     "output_type": "execute_result"
    }
   ],
   "source": [
    "lr.intercept_"
   ]
  },
  {
   "cell_type": "code",
   "execution_count": 31,
   "id": "6ace5ba5",
   "metadata": {},
   "outputs": [
    {
     "data": {
      "text/plain": [
       "array([[-3.48793598e-01,  1.83136793e-01,  2.95660806e-01,\n",
       "         4.81907593e-01,  3.42746928e-01,  5.19603538e-01,\n",
       "         7.46595555e-01],\n",
       "       [-1.93658464e-01, -1.56779289e-01,  2.95660806e-01,\n",
       "         1.30593279e+00,  3.42746928e-01,  5.19603538e-01,\n",
       "         2.94064425e-01],\n",
       "       [-3.52771422e-01,  1.29440091e+00,  1.42326615e+00,\n",
       "        -1.16614280e+00, -7.32800090e-01, -1.03594699e+00,\n",
       "         1.31153219e-01],\n",
       "       [-2.55977706e-01, -1.07978219e+00, -2.03472357e+00,\n",
       "        -1.99016800e+00, -8.86449664e-01, -1.35105852e+00,\n",
       "        -1.42555387e+00],\n",
       "       [-1.46587548e-01, -5.62063848e-01, -8.31944538e-01,\n",
       "        -3.42117604e-01, -7.32800090e-01, -1.03594699e+00,\n",
       "        -8.55364645e-01],\n",
       "       [-1.41946753e-01,  1.04694620e-01,  2.95660806e-01,\n",
       "         1.30593279e+00, -2.71851368e-01, -1.05617737e-01,\n",
       "         8.64253649e-01],\n",
       "       [ 2.52518420e+00,  2.22357879e-01,  2.65591330e-01,\n",
       "        -3.42117604e-01,  4.03033670e+00,  2.39526736e+00,\n",
       "         1.27153167e+00],\n",
       "       [ 7.83560284e-01,  2.35431575e-01,  6.71529254e-01,\n",
       "        -3.42117604e-01, -5.79150516e-01, -7.30839011e-01,\n",
       "        -8.60617238e-02],\n",
       "       [-3.58738158e-01,  1.83136793e-01,  2.95660806e-01,\n",
       "         4.81907593e-01,  3.42746928e-01,  5.19603538e-01,\n",
       "         7.46595555e-01],\n",
       "       [-3.30230420e-01, -6.52634208e-02,  2.95660806e-01,\n",
       "         1.30593279e+00, -2.71851368e-01, -1.05617737e-01,\n",
       "        -3.39479157e-01],\n",
       "       [-3.89897779e-01, -4.70547980e-01, -8.31944538e-01,\n",
       "        -1.16614280e+00, -7.32800090e-01, -7.30839011e-01,\n",
       "        -8.82516513e-01],\n",
       "       [ 5.23036493e-02,  2.87726356e-01, -8.02076420e-02,\n",
       "        -3.42117604e-01,  3.42746928e-01,  5.19603538e-01,\n",
       "         1.19912669e+00],\n",
       "       [-3.73986483e-01,  4.28827717e+00,  3.75365053e+00,\n",
       "        -3.42117604e-01, -2.71851368e-01, -1.05617737e-01,\n",
       "         4.27633837e+00],\n",
       "       [-2.87137327e-01,  3.03320240e+00,  2.17500304e+00,\n",
       "        -3.42117604e-01, -2.71851368e-01, -4.18228374e-01,\n",
       "         1.60640470e+00],\n",
       "       [-2.79181679e-01,  3.40021138e-01,  6.71529254e-01,\n",
       "         1.30593279e+00, -2.71851368e-01, -1.05617737e-01,\n",
       "         2.30710067e-01],\n",
       "       [-3.59401129e-01, -2.09074071e-01, -4.56076090e-01,\n",
       "        -3.42117604e-01, -5.79150516e-01, -7.30839011e-01,\n",
       "        -2.58023553e-01],\n",
       "       [-1.14101986e-01, -6.66653412e-01, -2.18507095e+00,\n",
       "        -1.99016800e+00, -8.81532878e-01, -1.33605321e+00,\n",
       "        -1.60656632e+00],\n",
       "       [-3.86582926e-01,  1.70063097e-01,  3.70834495e-01,\n",
       "        -3.42117604e-01,  3.42746928e-01,  5.19603538e-01,\n",
       "         2.94064425e-01],\n",
       "       [-3.88571838e-01, -1.43705594e-01,  2.95660806e-01,\n",
       "        -3.42117604e-01, -2.71851368e-01, -1.05617737e-01,\n",
       "        -1.58466705e-01],\n",
       "       [-3.26915567e-01, -6.52634208e-02,  2.95660806e-01,\n",
       "         1.30593279e+00, -2.71851368e-01, -1.05617737e-01,\n",
       "        -3.39479157e-01],\n",
       "       [-3.87245896e-01, -2.09074071e-01, -5.03395243e-03,\n",
       "        -3.42117604e-01, -2.71851368e-01, -1.05617737e-01,\n",
       "         1.13051973e-01],\n",
       "       [-9.55388072e-02,  7.73973277e+00,  5.33229801e+00,\n",
       "         1.30593279e+00,  3.42746928e-01,  5.19603538e-01,\n",
       "         6.17696912e+00],\n",
       "       [-3.38186068e-01, -4.31326894e-01, -4.56076090e-01,\n",
       "        -3.42117604e-01, -7.32800090e-01, -7.30839011e-01,\n",
       "        -7.55807796e-01],\n",
       "       [-3.73323512e-01, -1.82926680e-01,  7.01397371e-02,\n",
       "         1.30593279e+00,  3.42746928e-01,  5.19603538e-01,\n",
       "         2.03558199e-01],\n",
       "       [-3.84594014e-01,  9.16209247e-02,  2.95660806e-01,\n",
       "        -3.42117604e-01,  3.42746928e-01,  1.14482481e+00,\n",
       "         7.01342442e-01],\n",
       "       [-3.81279160e-01, -2.84901504e-01, -3.05728711e-01,\n",
       "        -3.42117604e-01, -2.71851368e-01, -1.05617737e-01,\n",
       "        -4.29985383e-01],\n",
       "       [-3.34871214e-01, -1.04484507e-01,  2.95660806e-01,\n",
       "         1.30593279e+00,  1.57194352e+00,  1.14482481e+00,\n",
       "         4.75076877e-01],\n",
       "       [-3.70008659e-01, -3.59421569e-01, -4.56076090e-01,\n",
       "        -3.42117604e-01, -5.79150516e-01, -7.30839011e-01,\n",
       "        -9.73022739e-01],\n",
       "       [ 6.52955065e-01, -1.17558203e-01,  7.01397371e-02,\n",
       "        -3.42117604e-01, -2.71851368e-01,  5.19603538e-01,\n",
       "         3.84570651e-01],\n",
       "       [-2.61944442e-01, -1.29686390e-02, -8.02076420e-02,\n",
       "        -1.16614280e+00, -8.86449664e-01, -7.30839011e-01,\n",
       "        -1.58466705e-01],\n",
       "       [ 2.63128318e-01, -1.04484507e-01,  2.95660806e-01,\n",
       "         1.30593279e+00,  1.57194352e+00,  1.14482481e+00,\n",
       "         4.75076877e-01],\n",
       "       [-3.68682718e-01, -2.09074071e-01, -4.56076090e-01,\n",
       "        -3.42117604e-01, -5.79150516e-01, -7.30839011e-01,\n",
       "        -2.58023553e-01],\n",
       "       [-3.86582926e-01,  1.31787519e-02,  1.45313427e-01,\n",
       "         1.30593279e+00,  3.42746928e-01,  1.14482481e+00,\n",
       "         1.19912669e+00],\n",
       "       [-3.72660542e-01, -1.82926680e-01, -8.02076420e-02,\n",
       "        -3.42117604e-01,  3.42746928e-01,  5.19603538e-01,\n",
       "        -2.03719818e-01],\n",
       "       [-1.92995494e-01, -1.08631904e+00, -2.03472357e+00,\n",
       "        -1.99016800e+00, -8.86296015e-01, -1.35355940e+00,\n",
       "        -1.65181943e+00],\n",
       "       [-3.74649454e-01, -2.84901504e-01, -3.05728711e-01,\n",
       "        -3.42117604e-01, -2.71851368e-01, -1.05617737e-01,\n",
       "        -4.29985383e-01],\n",
       "       [-3.26915567e-01, -1.24189601e+00, -2.71128678e+00,\n",
       "        -1.57815540e+00, -8.86449664e-01, -1.35355940e+00,\n",
       "        -1.69707255e+00],\n",
       "       [ 1.78464598e+00,  1.00677961e+00,  4.46008185e-01,\n",
       "         1.30593279e+00,  4.03033670e+00,  2.39526736e+00,\n",
       "         3.91431347e+00],\n",
       "       [-3.03711594e-01,  3.17701305e+00,  2.17500304e+00,\n",
       "        -3.42117604e-01, -5.79150516e-01, -7.30839011e-01,\n",
       "         1.65165782e+00],\n",
       "       [-3.69345689e-01,  9.16209247e-02,  4.46008185e-01,\n",
       "         1.30593279e+00,  3.42746928e-01,  5.19603538e-01,\n",
       "         3.39317538e-01],\n",
       "       [ 1.75613824e+00,  1.00677961e+00,  4.46008185e-01,\n",
       "         1.30593279e+00,  4.03033670e+00,  2.39526736e+00,\n",
       "         3.91431347e+00],\n",
       "       [-3.18296948e-01,  8.90061856e-02,  2.43039223e-01,\n",
       "        -3.42117604e-01,  4.03033670e+00,  2.39526736e+00,\n",
       "         8.37101781e-01],\n",
       "       [-3.81279160e-01,  1.05056481e-04,  2.95660806e-01,\n",
       "         1.30593279e+00, -7.32800090e-01, -7.30839011e-01,\n",
       "        -1.58466705e-01],\n",
       "       [ 6.10456278e+00,  5.36126570e-01,  6.71529254e-01,\n",
       "         1.30593279e+00, -2.71851368e-01,  5.19603538e-01,\n",
       "         2.25457474e-02],\n",
       "       [ 9.87092276e-01,  2.48505270e-01,  2.95660806e-01,\n",
       "         1.30593279e+00,  3.42746928e-01,  5.19603538e-01,\n",
       "         6.83241197e-01],\n",
       "       [-3.72660542e-01,  4.28827717e+00,  3.75365053e+00,\n",
       "        -3.42117604e-01, -2.71851368e-01, -1.05617737e-01,\n",
       "         4.27633837e+00],\n",
       "       [-3.53434393e-01, -3.91160299e-02,  2.95660806e-01,\n",
       "        -3.42117604e-01,  1.57194352e+00,  1.14482481e+00,\n",
       "         1.19912669e+00],\n",
       "       [-5.04568025e-02,  5.23998383e-02, -3.35798186e-01,\n",
       "        -3.42117604e-01, -8.86449664e-01, -1.35606029e+00,\n",
       "        -6.79604786e-02],\n",
       "       [-3.89897779e-01, -5.55527000e-01, -8.31944538e-01,\n",
       "        -1.16614280e+00, -7.32800090e-01, -1.03594699e+00,\n",
       "        -1.15403519e+00]])"
      ]
     },
     "execution_count": 31,
     "metadata": {},
     "output_type": "execute_result"
    }
   ],
   "source": [
    "X_test"
   ]
  },
  {
   "cell_type": "code",
   "execution_count": 28,
   "id": "73b0f102",
   "metadata": {},
   "outputs": [
    {
     "data": {
      "text/plain": [
       "array([2656.43150719, 2844.7721568 , 1436.56629981,  900.298246  ,\n",
       "       1538.31672841, 2566.49697757, 3595.30901554, 1827.01679509,\n",
       "       2656.8615826 , 2409.79556864, 1448.90009615, 2440.43416769,\n",
       "       2213.74258999, 1691.01072884, 2457.55883135, 1740.78291436,\n",
       "        684.51978602, 2436.32297938, 2155.65893285, 2409.65221017,\n",
       "       2159.92490899, 2307.26758447, 1702.64731867, 2792.66721328,\n",
       "       2721.0504723 , 2015.37417686, 3247.86617217, 1660.83923449,\n",
       "       2348.92171467, 1567.67431244, 3222.00430377, 1741.18431809,\n",
       "       3125.54131011, 2363.3423887 ,  856.80969442, 2015.08745992,\n",
       "        832.19334241, 4203.5298368 , 1504.22197561, 2807.57820419,\n",
       "       4204.76271966, 3679.09894403, 2155.64358886, 2271.27173578,\n",
       "       2722.79507136, 2213.6852466 , 3042.5719236 , 1454.00701309,\n",
       "       1331.50923102])"
      ]
     },
     "execution_count": 28,
     "metadata": {},
     "output_type": "execute_result"
    }
   ],
   "source": [
    "lr.predict(X_test)"
   ]
  },
  {
   "cell_type": "code",
   "execution_count": 29,
   "id": "57474c36",
   "metadata": {},
   "outputs": [
    {
     "data": {
      "text/plain": [
       "65     2824\n",
       "112    2975\n",
       "62     1347\n",
       "105     833\n",
       "119    1734\n",
       "121    2054\n",
       "155    3551\n",
       "144    1921\n",
       "60     2824\n",
       "78     2714\n",
       "4      1749\n",
       "136    2445\n",
       "37     2124\n",
       "95     1810\n",
       "96     2562\n",
       "59     1741\n",
       "126     705\n",
       "13     2744\n",
       "7      2137\n",
       "80     2714\n",
       "9      2580\n",
       "127    2491\n",
       "70     1734\n",
       "39     2392\n",
       "17     2938\n",
       "24     1942\n",
       "73     3116\n",
       "48     1843\n",
       "143    2508\n",
       "102    1522\n",
       "137    3116\n",
       "50     1741\n",
       "10     2438\n",
       "41     2087\n",
       "113     754\n",
       "36     1942\n",
       "81      791\n",
       "153    4361\n",
       "90     1646\n",
       "49     2685\n",
       "152    4361\n",
       "87     3837\n",
       "26     2006\n",
       "160    2536\n",
       "147    3102\n",
       "40     2124\n",
       "61     2746\n",
       "130    1357\n",
       "3      1315\n",
       "Name: Price, dtype: int64"
      ]
     },
     "execution_count": 29,
     "metadata": {},
     "output_type": "execute_result"
    }
   ],
   "source": [
    "y_test"
   ]
  },
  {
   "cell_type": "markdown",
   "id": "7a30f8ab",
   "metadata": {},
   "source": [
    "## Score -- Model"
   ]
  },
  {
   "cell_type": "code",
   "execution_count": 37,
   "id": "c0d66335",
   "metadata": {},
   "outputs": [
    {
     "data": {
      "text/plain": [
       "0.9290260114609914"
      ]
     },
     "execution_count": 37,
     "metadata": {},
     "output_type": "execute_result"
    }
   ],
   "source": [
    "lr.score(X_test, y_test)"
   ]
  },
  {
   "cell_type": "markdown",
   "id": "367f079a",
   "metadata": {},
   "source": [
    "## Implementing Other Reg Models"
   ]
  },
  {
   "cell_type": "code",
   "execution_count": 33,
   "id": "309ca4a3",
   "metadata": {},
   "outputs": [
    {
     "data": {
      "text/plain": [
       "array([2652.95050402, 2842.99288868, 1434.0626702 ,  903.9099932 ,\n",
       "       1540.29267736, 2562.10373203, 3590.21951053, 1823.07860694,\n",
       "       2653.36821844, 2412.75039614, 1451.00886877, 2435.90149766,\n",
       "       2204.16362505, 1698.25896446, 2458.25605307, 1740.30972512,\n",
       "        696.8115496 , 2433.25401357, 2151.06949102, 2412.611158  ,\n",
       "       2154.75568371, 2322.86993432, 1703.57435782, 2792.9663702 ,\n",
       "       2717.06877563, 2016.19829706, 3245.40561712, 1664.17778857,\n",
       "       2346.30722313, 1564.20632402, 3220.28705667, 1740.69959191,\n",
       "       3122.55750968, 2363.3722759 ,  862.26224809, 2015.91982078,\n",
       "        842.68655038, 4189.89502073, 1512.26616506, 2807.34404813,\n",
       "       4191.09246873, 3672.41342668, 2156.04186185, 2287.19334905,\n",
       "       2724.84602309, 2204.10792979, 3030.1185755 , 1452.69671155,\n",
       "       1333.28202818])"
      ]
     },
     "execution_count": 33,
     "metadata": {},
     "output_type": "execute_result"
    }
   ],
   "source": [
    "ls = Lasso()\n",
    "ls.fit(X_train,y_train)\n",
    "ls.predict(X_test)"
   ]
  },
  {
   "cell_type": "code",
   "execution_count": 34,
   "id": "d934e4e8",
   "metadata": {},
   "outputs": [
    {
     "data": {
      "text/plain": [
       "0.9296736721072755"
      ]
     },
     "execution_count": 34,
     "metadata": {},
     "output_type": "execute_result"
    }
   ],
   "source": [
    "ls.score(X_test, y_test)"
   ]
  },
  {
   "cell_type": "code",
   "execution_count": 35,
   "id": "c9a79705",
   "metadata": {},
   "outputs": [
    {
     "data": {
      "text/plain": [
       "array([2651.05840391, 2843.29393457, 1429.52844692,  909.89813575,\n",
       "       1544.79227841, 2559.50379563, 3595.71964975, 1812.06326652,\n",
       "       2651.51103688, 2417.82098403, 1451.5091246 , 2430.60683504,\n",
       "       2194.07081414, 1710.14734255, 2460.77376435, 1741.93981474,\n",
       "        713.69487155, 2428.73336258, 2142.68853177, 2417.67010638,\n",
       "       2146.98176217, 2352.5367073 , 1703.68634487, 2797.28698609,\n",
       "       2705.57526269, 2015.73393819, 3254.35475208, 1669.0752182 ,\n",
       "       2330.20306944, 1554.90433258, 3227.13642289, 1742.36227218,\n",
       "       3118.07533096, 2362.58785215,  869.84067966, 2015.43218288,\n",
       "        860.1803543 , 4198.52377226, 1525.136595  , 2810.49539472,\n",
       "       4199.8213201 , 3689.37829048, 2159.64171286, 2269.70541363,\n",
       "       2725.35494079, 2194.01046308, 3023.58301383, 1455.03044448,\n",
       "       1335.97695524])"
      ]
     },
     "execution_count": 35,
     "metadata": {},
     "output_type": "execute_result"
    }
   ],
   "source": [
    "rg = Ridge()\n",
    "rg.fit(X_train,y_train)\n",
    "rg.predict(X_test)"
   ]
  },
  {
   "cell_type": "code",
   "execution_count": 36,
   "id": "4b754ba5",
   "metadata": {},
   "outputs": [
    {
     "data": {
      "text/plain": [
       "0.9298734554723668"
      ]
     },
     "execution_count": 36,
     "metadata": {},
     "output_type": "execute_result"
    }
   ],
   "source": [
    "rg.score(X_test, y_test)"
   ]
  }
 ],
 "metadata": {
  "kernelspec": {
   "display_name": "Python 3",
   "language": "python",
   "name": "python3"
  },
  "language_info": {
   "codemirror_mode": {
    "name": "ipython",
    "version": 3
   },
   "file_extension": ".py",
   "mimetype": "text/x-python",
   "name": "python",
   "nbconvert_exporter": "python",
   "pygments_lexer": "ipython3",
   "version": "3.9.12"
  }
 },
 "nbformat": 4,
 "nbformat_minor": 5
}
